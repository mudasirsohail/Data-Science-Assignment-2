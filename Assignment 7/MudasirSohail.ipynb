{
 "cells": [
  {
   "cell_type": "markdown",
   "id": "96dd7c9a",
   "metadata": {},
   "source": [
    "# Name : Mudasir Sohail\n",
    "# Assignment 7\n",
    "# course : Data Science"
   ]
  },
  {
   "cell_type": "code",
   "execution_count": 1,
   "id": "770ad9d0",
   "metadata": {},
   "outputs": [
    {
     "name": "stdout",
     "output_type": "stream",
     "text": [
      "Requirement already satisfied: pandas in c:\\users\\ccee\\desktop\\data science assignment 2\\.venv\\lib\\site-packages (2.3.3)\n",
      "Requirement already satisfied: numpy>=1.26.0 in c:\\users\\ccee\\desktop\\data science assignment 2\\.venv\\lib\\site-packages (from pandas) (2.3.4)\n",
      "Requirement already satisfied: python-dateutil>=2.8.2 in c:\\users\\ccee\\desktop\\data science assignment 2\\.venv\\lib\\site-packages (from pandas) (2.9.0.post0)\n",
      "Requirement already satisfied: pytz>=2020.1 in c:\\users\\ccee\\desktop\\data science assignment 2\\.venv\\lib\\site-packages (from pandas) (2025.2)\n",
      "Requirement already satisfied: tzdata>=2022.7 in c:\\users\\ccee\\desktop\\data science assignment 2\\.venv\\lib\\site-packages (from pandas) (2025.2)\n",
      "Requirement already satisfied: six>=1.5 in c:\\users\\ccee\\desktop\\data science assignment 2\\.venv\\lib\\site-packages (from python-dateutil>=2.8.2->pandas) (1.17.0)\n"
     ]
    }
   ],
   "source": [
    "! pip install pandas"
   ]
  },
  {
   "cell_type": "code",
   "execution_count": 47,
   "id": "7aa69e0c",
   "metadata": {},
   "outputs": [
    {
     "name": "stdout",
     "output_type": "stream",
     "text": [
      "2.3.3\n"
     ]
    }
   ],
   "source": [
    "import pandas as pd\n",
    "print(pd.__version__)"
   ]
  },
  {
   "cell_type": "code",
   "execution_count": 50,
   "id": "08245711",
   "metadata": {},
   "outputs": [
    {
     "name": "stdout",
     "output_type": "stream",
     "text": [
      "   Order ID Customer Name Product Category  Quantity  Unit Price ($)  \\\n",
      "0         1         Hamza      Electronics         2             300   \n",
      "1         2           Ali         Clothing         5              40   \n",
      "2         3         Ahmed    Home & Garden         1             120   \n",
      "3         4        Qurban            Books         3              15   \n",
      "4         5       Mudasir      Electronics         1             450   \n",
      "5         6      Mussawir         Clothing         4              35   \n",
      "6         7         Adnan           Sports         2              60   \n",
      "7         8         Aadil           Beauty         6              25   \n",
      "8         9        Sammad      Electronics         3             280   \n",
      "9        10       Hasnain            Books         2              20   \n",
      "\n",
      "   Order Date  Delivery Days  \n",
      "0  01/10/2024              5  \n",
      "1  03/10/2024              3  \n",
      "2  05/10/2024              7  \n",
      "3  07/10/2024              2  \n",
      "4  09/10/2024              6  \n",
      "5  10/10/2024              4  \n",
      "6  12/10/2024              5  \n",
      "7  15/10/2024              3  \n",
      "8  17/10/2024              5  \n",
      "9  20/10/2024              2  \n"
     ]
    }
   ],
   "source": [
    "import pandas as pd\n",
    "\n",
    "df = pd.read_csv(\"mudasir_sohail.csv\")\n",
    "print(df)"
   ]
  },
  {
   "cell_type": "code",
   "execution_count": 31,
   "id": "b418576a",
   "metadata": {},
   "outputs": [
    {
     "name": "stdout",
     "output_type": "stream",
     "text": [
      "   Order ID Customer Name Product Category  Quantity  Unit Price ($)  \\\n",
      "0         1         Hamza      Electronics         2             300   \n",
      "1         2           Ali         Clothing         5              40   \n",
      "2         3         Ahmed    Home & Garden         1             120   \n",
      "3         4        Qurban            Books         3              15   \n",
      "\n",
      "   Order Date  Delivery Days  \n",
      "0  01/10/2024              5  \n",
      "1  03/10/2024              3  \n",
      "2  05/10/2024              7  \n",
      "3  07/10/2024              2  \n"
     ]
    }
   ],
   "source": [
    "#1 Show the first few rows (4):\n",
    "print(df.head(4))\n"
   ]
  },
  {
   "cell_type": "code",
   "execution_count": 32,
   "id": "d9b68f6e",
   "metadata": {},
   "outputs": [
    {
     "name": "stdout",
     "output_type": "stream",
     "text": [
      "<class 'pandas.core.frame.DataFrame'>\n",
      "RangeIndex: 10 entries, 0 to 9\n",
      "Data columns (total 7 columns):\n",
      " #   Column            Non-Null Count  Dtype \n",
      "---  ------            --------------  ----- \n",
      " 0   Order ID          10 non-null     int64 \n",
      " 1   Customer Name     10 non-null     object\n",
      " 2   Product Category  10 non-null     object\n",
      " 3   Quantity          10 non-null     int64 \n",
      " 4   Unit Price ($)    10 non-null     int64 \n",
      " 5   Order Date        10 non-null     object\n",
      " 6   Delivery Days     10 non-null     int64 \n",
      "dtypes: int64(4), object(3)\n",
      "memory usage: 692.0+ bytes\n",
      "None\n"
     ]
    }
   ],
   "source": [
    "#2 Get info about the DataFrame: columns, data types, non-null counts:\n",
    "print(df.info())\n"
   ]
  },
  {
   "cell_type": "code",
   "execution_count": 33,
   "id": "efcba31a",
   "metadata": {},
   "outputs": [
    {
     "name": "stdout",
     "output_type": "stream",
     "text": [
      "       Order ID  Quantity  Unit Price ($)  Delivery Days\n",
      "count  10.00000  10.00000       10.000000      10.000000\n",
      "mean    5.50000   2.90000      134.500000       4.200000\n",
      "std     3.02765   1.66333      153.504434       1.686548\n",
      "min     1.00000   1.00000       15.000000       2.000000\n",
      "25%     3.25000   2.00000       27.500000       3.000000\n",
      "50%     5.50000   2.50000       50.000000       4.500000\n",
      "75%     7.75000   3.75000      240.000000       5.000000\n",
      "max    10.00000   6.00000      450.000000       7.000000\n"
     ]
    }
   ],
   "source": [
    "#3 Summary statistics for numeric columns:\n",
    "print(df.describe())\n"
   ]
  },
  {
   "cell_type": "code",
   "execution_count": 34,
   "id": "8c933bb8",
   "metadata": {},
   "outputs": [
    {
     "name": "stdout",
     "output_type": "stream",
     "text": [
      "   Order ID Customer Name Product Category  Quantity  Unit Price ($)  \\\n",
      "4         5       Mudasir      Electronics         1             450   \n",
      "0         1         Hamza      Electronics         2             300   \n",
      "8         9        Sammad      Electronics         3             280   \n",
      "2         3         Ahmed    Home & Garden         1             120   \n",
      "6         7         Adnan           Sports         2              60   \n",
      "1         2           Ali         Clothing         5              40   \n",
      "5         6      Mussawir         Clothing         4              35   \n",
      "7         8         Aadil           Beauty         6              25   \n",
      "9        10       Hasnain            Books         2              20   \n",
      "3         4        Qurban            Books         3              15   \n",
      "\n",
      "   Order Date  Delivery Days  \n",
      "4  09/10/2024              6  \n",
      "0  01/10/2024              5  \n",
      "8  17/10/2024              5  \n",
      "2  05/10/2024              7  \n",
      "6  12/10/2024              5  \n",
      "1  03/10/2024              3  \n",
      "5  10/10/2024              4  \n",
      "7  15/10/2024              3  \n",
      "9  20/10/2024              2  \n",
      "3  07/10/2024              2  \n"
     ]
    }
   ],
   "source": [
    "#4 Sort rows by a column, e.g., by Total Price ($) descending:\n",
    "print(df.sort_values(by='Unit Price ($)', ascending=False))\n"
   ]
  },
  {
   "cell_type": "code",
   "execution_count": 35,
   "id": "518b320e",
   "metadata": {},
   "outputs": [
    {
     "name": "stdout",
     "output_type": "stream",
     "text": [
      "Product Category\n",
      "Beauty           6.0\n",
      "Books            2.5\n",
      "Clothing         4.5\n",
      "Electronics      2.0\n",
      "Home & Garden    1.0\n",
      "Sports           2.0\n",
      "Name: Quantity, dtype: float64\n"
     ]
    }
   ],
   "source": [
    "#5 Group by Product Category and calculate mean quantity:\n",
    "print(df.groupby('Product Category')['Quantity'].mean())\n"
   ]
  },
  {
   "cell_type": "code",
   "execution_count": 36,
   "id": "9021c3bd",
   "metadata": {},
   "outputs": [
    {
     "name": "stdout",
     "output_type": "stream",
     "text": [
      "   Order ID Customer Name Product Category  Quantity  Unit Price ($)  \\\n",
      "1         2           Ali         Clothing         5              40   \n",
      "3         4        Qurban            Books         3              15   \n",
      "7         8         Aadil           Beauty         6              25   \n",
      "9        10       Hasnain            Books         2              20   \n",
      "\n",
      "   Order Date  Delivery Days  \n",
      "1  03/10/2024              3  \n",
      "3  07/10/2024              2  \n",
      "7  15/10/2024              3  \n",
      "9  20/10/2024              2  \n"
     ]
    }
   ],
   "source": [
    "#6 Filtering rows where Delivery Days <= 3:\n",
    "fast_delivery = df[df['Delivery Days'] <= 3]\n",
    "print(fast_delivery)\n"
   ]
  },
  {
   "cell_type": "code",
   "execution_count": 37,
   "id": "f96681a0",
   "metadata": {},
   "outputs": [
    {
     "name": "stdout",
     "output_type": "stream",
     "text": [
      "   Unit Price ($)  Discounted Price\n",
      "0             300             270.0\n",
      "1              40              36.0\n",
      "2             120             108.0\n",
      "3              15              13.5\n",
      "4             450             405.0\n",
      "5              35              31.5\n",
      "6              60              54.0\n",
      "7              25              22.5\n",
      "8             280             252.0\n",
      "9              20              18.0\n"
     ]
    }
   ],
   "source": [
    "#7 Apply a custom function on a column, e.g., apply a 10% discount on Unit Price ($):\n",
    "df['Discounted Price'] = df['Unit Price ($)'].apply(lambda x: x * 0.9)\n",
    "print(df[['Unit Price ($)', 'Discounted Price']])\n"
   ]
  },
  {
   "cell_type": "code",
   "execution_count": null,
   "id": "4c2b4e85",
   "metadata": {},
   "outputs": [
    {
     "name": "stdout",
     "output_type": "stream",
     "text": [
      "Ali\n",
      "Order ID                        3\n",
      "Customer Name               Ahmed\n",
      "Product Category    Home & Garden\n",
      "Quantity                        1\n",
      "Unit Price ($)                120\n",
      "Delivery Days                   7\n",
      "Discounted Price            108.0\n",
      "Name: 2, dtype: object\n",
      "  Customer Name Product Category  Quantity\n",
      "0         Hamza      Electronics         2\n",
      "1           Ali         Clothing         5\n",
      "2         Ahmed    Home & Garden         1\n",
      "3        Qurban            Books         3\n",
      "4       Mudasir      Electronics         1\n"
     ]
    }
   ],
   "source": [
    "#8 .iloc examples (index-based selection)\n",
    "\n",
    "# Select the value at row 1, column 1 (2nd row, 2nd column):\n",
    "print(df.iloc[1, 1])  # Output: 'Ali'\n",
    "\n",
    "# Select the entire 3rd row:\n",
    "print(df.iloc[2])\n",
    "\n",
    "# Select rows 0 to 4 and columns 1 to 3:\n",
    "print(df.iloc[0:5, 1:4])"
   ]
  },
  {
   "cell_type": "code",
   "execution_count": null,
   "id": "4241e4f2",
   "metadata": {},
   "outputs": [
    {
     "name": "stdout",
     "output_type": "stream",
     "text": [
      "Order ID            0\n",
      "Customer Name       0\n",
      "Product Category    0\n",
      "Quantity            0\n",
      "Unit Price ($)      0\n",
      "Order Date          0\n",
      "Delivery Days       0\n",
      "Discounted Price    0\n",
      "dtype: int64\n"
     ]
    }
   ],
   "source": [
    "#9 Check for missing values:\n",
    "print(df.isnull().sum())\n"
   ]
  },
  {
   "cell_type": "code",
   "execution_count": null,
   "id": "6b3195fa",
   "metadata": {},
   "outputs": [
    {
     "name": "stdout",
     "output_type": "stream",
     "text": [
      "   Order ID Customer Name Product Category  Quantity  Unit Price ($)  \\\n",
      "0         1         Hamza      Electronics         2             300   \n",
      "1         2           Ali         Clothing         5              40   \n",
      "2         3         Ahmed    Home & Garden         1             120   \n",
      "3         4        Qurban            Books         3              15   \n",
      "4         5       Mudasir      Electronics         1             450   \n",
      "5         6      Mussawir         Clothing         4              35   \n",
      "6         7         Adnan           Sports         2              60   \n",
      "7         8         Aadil           Beauty         6              25   \n",
      "8         9        Sammad      Electronics         3             280   \n",
      "9        10       Hasnain            Books         2              20   \n",
      "\n",
      "   Delivery Days  Discounted Price  \n",
      "0              5             270.0  \n",
      "1              3              36.0  \n",
      "2              7             108.0  \n",
      "3              2              13.5  \n",
      "4              6             405.0  \n",
      "5              4              31.5  \n",
      "6              5              54.0  \n",
      "7              3              22.5  \n",
      "8              5             252.0  \n",
      "9              2              18.0  \n"
     ]
    }
   ],
   "source": [
    "#10 Drop a column, for example Discounted Price if no longer needed:\n",
    "df = df.drop(columns=['Order Date'])\n",
    "print(df)"
   ]
  },
  {
   "cell_type": "code",
   "execution_count": null,
   "id": "eb8d0eaf",
   "metadata": {},
   "outputs": [
    {
     "name": "stdout",
     "output_type": "stream",
     "text": [
      "Product Category\n",
      "Electronics      3\n",
      "Clothing         2\n",
      "Books            2\n",
      "Home & Garden    1\n",
      "Sports           1\n",
      "Beauty           1\n",
      "Name: count, dtype: int64\n"
     ]
    }
   ],
   "source": [
    "#11 Count unique values in a column, e.g., count how many orders per Product Category:\n",
    "print(df['Product Category'].value_counts())\n"
   ]
  },
  {
   "cell_type": "code",
   "execution_count": null,
   "id": "9f953b65",
   "metadata": {},
   "outputs": [
    {
     "name": "stdout",
     "output_type": "stream",
     "text": [
      "Ali\n",
      "Order ID                 4\n",
      "Customer Name       Qurban\n",
      "Product Category     Books\n",
      "Quantity                 3\n",
      "Unit Price ($)          15\n",
      "Delivery Days            2\n",
      "Discounted Price      13.5\n",
      "Name: 3, dtype: object\n",
      "  Customer Name Product Category  Quantity\n",
      "2         Ahmed    Home & Garden         1\n",
      "3        Qurban            Books         3\n",
      "4       Mudasir      Electronics         1\n",
      "5      Mussawir         Clothing         4\n"
     ]
    }
   ],
   "source": [
    "# 12 .loc examples (label-based selection)\n",
    "\n",
    "# Select the value at row label 1, column 'Customer Name':\n",
    "print(df.loc[1, 'Customer Name'])  # Output: 'Ali'\n",
    "\n",
    "# Select entire row with label 3:\n",
    "print(df.loc[3])\n",
    "\n",
    "# Select rows 2 to 5 and columns 'Customer Name' to 'Quantity':\n",
    "print(df.loc[2:5, 'Customer Name':'Quantity'])"
   ]
  }
 ],
 "metadata": {
  "kernelspec": {
   "display_name": ".venv (3.13.7)",
   "language": "python",
   "name": "python3"
  },
  "language_info": {
   "codemirror_mode": {
    "name": "ipython",
    "version": 3
   },
   "file_extension": ".py",
   "mimetype": "text/x-python",
   "name": "python",
   "nbconvert_exporter": "python",
   "pygments_lexer": "ipython3",
   "version": "3.13.7"
  }
 },
 "nbformat": 4,
 "nbformat_minor": 5
}
