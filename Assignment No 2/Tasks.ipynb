{
 "cells": [
  {
   "cell_type": "markdown",
   "id": "f3ab7525",
   "metadata": {},
   "source": [
    "# Task1:\n"
   ]
  },
  {
   "cell_type": "code",
   "execution_count": null,
   "id": "4207049d",
   "metadata": {
    "vscode": {
     "languageId": "plaintext"
    }
   },
   "outputs": [],
   "source": [
    "students = {\n",
    "    \"student1\": {\"name\": \"Alice\", \"age\": 20, \"grades\": {\"math\": 85, \"science\": 90}},\n",
    "    \"student2\": {\"name\": \"Bob\", \"age\": 22, \"grades\": {\"math\": 78, \"science\": 88}}\n",
    "}\n",
    "\n",
    "# Q1: Delete Charlie's Record (Charlie is not in dictionary, let's assume we want to delete if exists)\n",
    "students.pop(\"student3\", None)  # No error if key doesn't exist\n",
    "\n",
    "# Q2: Delete Bob's Math Grade\n",
    "students[\"student2\"][\"grades\"].pop(\"math\")\n",
    "\n",
    "print(students)"
   ]
  },
  {
   "cell_type": "markdown",
   "id": "ff678dad",
   "metadata": {},
   "source": [
    "# Task 2:\n"
   ]
  },
  {
   "cell_type": "code",
   "execution_count": null,
   "id": "fb32b333",
   "metadata": {
    "vscode": {
     "languageId": "plaintext"
    }
   },
   "outputs": [],
   "source": [
    "eemployees = {\n",
    "    101: {\"name\": \"Alice\", \"department\": \"HR\", \"salary\": 50000},\n",
    "    102: {\"name\": \"Bob\", \"department\": \"IT\", \"salary\": 60000}\n",
    "}\n",
    "\n",
    "#add records \n",
    "employees[103] = {\"name\": \"Ali\", \"department\": \"Finance\", \"salary\": 55000}\n",
    "employees[104] = {\"name\": \"Hamza\", \"department\": \"Finance\", \"salary\": 58000}\n",
    "print(employees)"
   ]
  },
  {
   "cell_type": "markdown",
   "id": "c0557678",
   "metadata": {},
   "source": []
  },
  {
   "cell_type": "markdown",
   "id": "6111dcd7",
   "metadata": {},
   "source": [
    "# Task 3:\n",
    "\n",
    "\n",
    "\n",
    "\n"
   ]
  },
  {
   "cell_type": "code",
   "execution_count": null,
   "id": "944b7c43",
   "metadata": {
    "vscode": {
     "languageId": "plaintext"
    }
   },
   "outputs": [],
   "source": [
    "students = { \"Alice\": {\"math\": 90, \"science\": 85}, \"Bob\": {\"math\": 70, \"science\": 80},\n",
    "\"Charlie\": {\"math\": 88, \"science\": 92} }"
   ]
  },
  {
   "cell_type": "markdown",
   "id": "6286bd85",
   "metadata": {},
   "source": [
    "# Task 4:"
   ]
  },
  {
   "cell_type": "code",
   "execution_count": null,
   "id": "c25dd011",
   "metadata": {
    "vscode": {
     "languageId": "plaintext"
    }
   },
   "outputs": [],
   "source": [
    "# Step 1: Create library with nested dictionary\n",
    "library = {\n",
    "    101: {\"title\": \"Python Basics\", \"author\": \"John Doe\", \"available\": True},\n",
    "    102: {\"title\": \"Data Science 101\", \"author\": \"Jane Smith\", \"available\": True}\n",
    "}\n",
    "\n",
    "# Function to add a new book\n",
    "def add_book(book_id, title, author):\n",
    "    library[book_id] = {\"title\": title, \"author\": author, \"available\": True}\n",
    "    print(f\"Book '{title}' added successfully.\")\n",
    "\n",
    "# Function to borrow a book\n",
    "def borrow_book(book_id):\n",
    "    if book_id in library:\n",
    "        if library[book_id][\"available\"]:\n",
    "            library[book_id][\"available\"] = False\n",
    "            print(f\"You have borrowed '{library[book_id]['title']}'.\")\n",
    "        else:\n",
    "            print(f\"Sorry, '{library[book_id]['title']}' is not available.\")\n",
    "    else:\n",
    "        print(\"Book ID not found.\")\n",
    "\n",
    "# Function to return a book\n",
    "def return_book(book_id):\n",
    "    if book_id in library:\n",
    "        library[book_id][\"available\"] = True\n",
    "        print(f\"You have returned '{library[book_id]['title']}'.\")\n",
    "    else:\n",
    "        print(\"Book ID not found.\")\n",
    "\n",
    "# Example usage\n",
    "add_book(103, \"Machine Learning\", \"Tom Brown\")\n",
    "borrow_book(101)\n",
    "return_book(101)\n",
    "\n",
    "# Print library to see current records\n",
    "print(\"\\nLibrary Records:\")\n",
    "for id, info in library.items():\n",
    "    print(f\"ID: {id}, Title: {info['title']}, Author: {info['author']}, Available: {info['available']}\")\n"
   ]
  }
 ],
 "metadata": {
  "language_info": {
   "name": "python"
  }
 },
 "nbformat": 4,
 "nbformat_minor": 5
}
