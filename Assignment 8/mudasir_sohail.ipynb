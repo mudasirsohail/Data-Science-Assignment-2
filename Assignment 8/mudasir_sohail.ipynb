{
 "cells": [
  {
   "cell_type": "markdown",
   "id": "0fa78b1b",
   "metadata": {},
   "source": [
    "# Mudasir Sohail\n",
    "# Assignment 8\n",
    "# Course : DS"
   ]
  },
  {
   "cell_type": "code",
   "execution_count": 2,
   "id": "6657dba8",
   "metadata": {},
   "outputs": [
    {
     "name": "stdout",
     "output_type": "stream",
     "text": [
      "Array of 10 zeros:\n",
      " [0. 0. 0. 0. 0. 0. 0. 0. 0. 0.]\n"
     ]
    }
   ],
   "source": [
    "import numpy as np\n",
    "\n",
    "# 47. Create an array of 10 zeros\n",
    "zeros_array = np.zeros(10)\n",
    "print(\"Array of 10 zeros:\\n\", zeros_array)"
   ]
  },
  {
   "cell_type": "code",
   "execution_count": 5,
   "id": "12870bef",
   "metadata": {},
   "outputs": [
    {
     "name": "stdout",
     "output_type": "stream",
     "text": [
      "\n",
      "Array of 5 ones multiplied by 10:\n",
      " [10. 10. 10. 10. 10.]\n"
     ]
    }
   ],
   "source": [
    "# 48. Create an array of 5 ones, multiply by 10\n",
    "ones_array = np.ones(5) * 10\n",
    "print(\"\\nArray of 5 ones multiplied by 10:\\n\", ones_array)\n"
   ]
  },
  {
   "cell_type": "code",
   "execution_count": 6,
   "id": "11905a1e",
   "metadata": {},
   "outputs": [
    {
     "name": "stdout",
     "output_type": "stream",
     "text": [
      "\n",
      "Array from 0 to 50 with step 5:\n",
      " [ 0  5 10 15 20 25 30 35 40 45 50]\n"
     ]
    }
   ],
   "source": [
    "\n",
    "# 49. Create array from 0 to 50 (inclusive) with step 5\n",
    "step_array = np.arange(0, 51, 5)\n",
    "print(\"\\nArray from 0 to 50 with step 5:\\n\", step_array)"
   ]
  },
  {
   "cell_type": "code",
   "execution_count": 7,
   "id": "ba28e308",
   "metadata": {},
   "outputs": [
    {
     "name": "stdout",
     "output_type": "stream",
     "text": [
      "\n",
      "Random integers array:\n",
      " [ 76  77  68  76  53  53  13  35  99  60  14 100  12  68  65  26  49  34\n",
      "   1  54  94  55   7  22  27  94   2   9  66  76  94  80  80  29  48  91\n",
      "  97  37  61  91  37  53  72  37  75  54  55  23  98   4  94  81  67  52\n",
      "  56  47  75  16   5  15   2  95  46  52  93  44  72  22  77  47  96  24\n",
      "  95  34  59  91  34  55  25  44   1  25  27  17  61  54  55  46  63  98\n",
      "  22  48  16  19  53  68   2  21  26  92]\n",
      "Minimum value: 1\n",
      "Maximum value: 100\n"
     ]
    }
   ],
   "source": [
    "# 50. Create array of 100 random integers (1 to 100), find min and max\n",
    "random_array = np.random.randint(1, 101, 100)\n",
    "print(\"\\nRandom integers array:\\n\", random_array)\n",
    "print(\"Minimum value:\", random_array.min())\n",
    "print(\"Maximum value:\", random_array.max())\n"
   ]
  },
  {
   "cell_type": "code",
   "execution_count": 8,
   "id": "559e7d21",
   "metadata": {},
   "outputs": [
    {
     "name": "stdout",
     "output_type": "stream",
     "text": [
      "\n",
      "Element-wise addition: [5 7 9]\n",
      "Element-wise multiplication: [ 4 10 18]\n"
     ]
    }
   ],
   "source": [
    "# 51. Element-wise addition and multiplication between two arrays\n",
    "arr1 = np.array([1, 2, 3])\n",
    "arr2 = np.array([4, 5, 6])\n",
    "print(\"\\nElement-wise addition:\", arr1 + arr2)\n",
    "print(\"Element-wise multiplication:\", arr1 * arr2)\n"
   ]
  },
  {
   "cell_type": "code",
   "execution_count": 9,
   "id": "6c7511be",
   "metadata": {},
   "outputs": [
    {
     "name": "stdout",
     "output_type": "stream",
     "text": [
      "\n",
      "2D Random Array:\n",
      " [[0.09000351 0.92956107 0.90281132]\n",
      " [0.60262983 0.54168863 0.64305652]\n",
      " [0.69518903 0.14964015 0.15044458]]\n",
      "Mean of array: 0.5227805154955217\n"
     ]
    }
   ],
   "source": [
    "\n",
    "# 52. Create 2D array (3x3) of random numbers and calculate mean\n",
    "array_2d = np.random.rand(3, 3)\n",
    "print(\"\\n2D Random Array:\\n\", array_2d)\n",
    "print(\"Mean of array:\", array_2d.mean())\n"
   ]
  },
  {
   "cell_type": "code",
   "execution_count": 10,
   "id": "36148b19",
   "metadata": {},
   "outputs": [
    {
     "name": "stdout",
     "output_type": "stream",
     "text": [
      "\n",
      "Original (4x5) Array:\n",
      " [[ 0  1  2  3  4]\n",
      " [ 5  6  7  8  9]\n",
      " [10 11 12 13 14]\n",
      " [15 16 17 18 19]]\n",
      "Reshaped (5x4) Array:\n",
      " [[ 0  1  2  3]\n",
      " [ 4  5  6  7]\n",
      " [ 8  9 10 11]\n",
      " [12 13 14 15]\n",
      " [16 17 18 19]]\n"
     ]
    }
   ],
   "source": [
    "# 53. Create array and reshape from (4, 5) to (5, 4)\n",
    "reshaped_array = np.arange(20).reshape(4, 5)\n",
    "print(\"\\nOriginal (4x5) Array:\\n\", reshaped_array)\n",
    "reshaped_array = reshaped_array.reshape(5, 4)\n",
    "print(\"Reshaped (5x4) Array:\\n\", reshaped_array)"
   ]
  },
  {
   "cell_type": "code",
   "execution_count": 11,
   "id": "438e0f44",
   "metadata": {},
   "outputs": [
    {
     "name": "stdout",
     "output_type": "stream",
     "text": [
      "\n",
      "Array: [1 7 3 9 5]\n",
      "Index of maximum value: 3\n"
     ]
    }
   ],
   "source": [
    "# 54. Find index of maximum value in array\n",
    "arr = np.array([1, 7, 3, 9, 5])\n",
    "max_index = np.argmax(arr)\n",
    "print(\"\\nArray:\", arr)\n",
    "print(\"Index of maximum value:\", max_index)"
   ]
  },
  {
   "cell_type": "code",
   "execution_count": 12,
   "id": "a0ce28e4",
   "metadata": {},
   "outputs": [
    {
     "name": "stdout",
     "output_type": "stream",
     "text": [
      "\n",
      "DataFrame:\n",
      "     Name  Age  Score\n",
      "0    Ali   20     88\n",
      "1   Sara   22     95\n",
      "2  Ahmed   19     76\n"
     ]
    }
   ],
   "source": [
    "import pandas as pd\n",
    "\n",
    "# 55. Create DataFrame from a dictionary\n",
    "data = {\n",
    "    \"Name\": [\"Ali\", \"Sara\", \"Ahmed\"],\n",
    "    \"Age\": [20, 22, 19],\n",
    "    \"Score\": [88, 95, 76]\n",
    "}\n",
    "df = pd.DataFrame(data)\n",
    "print(\"\\nDataFrame:\\n\", df)\n"
   ]
  },
  {
   "cell_type": "code",
   "execution_count": 13,
   "id": "4605ef07",
   "metadata": {},
   "outputs": [
    {
     "name": "stdout",
     "output_type": "stream",
     "text": [
      "\n",
      "Name column:\n",
      " 0      Ali\n",
      "1     Sara\n",
      "2    Ahmed\n",
      "Name: Name, dtype: object\n"
     ]
    }
   ],
   "source": [
    "# 56. Select \"Name\" column\n",
    "print(\"\\nName column:\\n\", df[\"Name\"])"
   ]
  },
  {
   "cell_type": "code",
   "execution_count": 14,
   "id": "17a3a9c8",
   "metadata": {},
   "outputs": [
    {
     "name": "stdout",
     "output_type": "stream",
     "text": [
      "\n",
      "DataFrame with Grade column:\n",
      "     Name  Age  Score Grade\n",
      "0    Ali   20     88     B\n",
      "1   Sara   22     95     A\n",
      "2  Ahmed   19     76     C\n"
     ]
    }
   ],
   "source": [
    "# 57. Add new column \"Grade\" based on Score\n",
    "def grade(score):\n",
    "    if score >= 90:\n",
    "        return \"A\"\n",
    "    elif score >= 80:\n",
    "        return \"B\"\n",
    "    elif score >= 70:\n",
    "        return \"C\"\n",
    "    else:\n",
    "        return \"D\"\n",
    "\n",
    "df[\"Grade\"] = df[\"Score\"].apply(grade)\n",
    "print(\"\\nDataFrame with Grade column:\\n\", df)"
   ]
  },
  {
   "cell_type": "code",
   "execution_count": 15,
   "id": "d6e6a445",
   "metadata": {},
   "outputs": [
    {
     "name": "stdout",
     "output_type": "stream",
     "text": [
      "\n",
      "Students with score > 85:\n",
      "    Name  Age  Score Grade\n",
      "0   Ali   20     88     B\n",
      "1  Sara   22     95     A\n"
     ]
    }
   ],
   "source": [
    "# 58. Filter students with score > 85\n",
    "high_scores = df[df[\"Score\"] > 85]\n",
    "print(\"\\nStudents with score > 85:\\n\", high_scores)\n"
   ]
  },
  {
   "cell_type": "code",
   "execution_count": 16,
   "id": "20847126",
   "metadata": {},
   "outputs": [
    {
     "name": "stdout",
     "output_type": "stream",
     "text": [
      "\n",
      "Mean of Scores: 86.33333333333333\n",
      "Median of Scores: 88.0\n"
     ]
    }
   ],
   "source": [
    "# 59. Find mean and median of Score column\n",
    "print(\"\\nMean of Scores:\", df[\"Score\"].mean())\n",
    "print(\"Median of Scores:\", df[\"Score\"].median())"
   ]
  },
  {
   "cell_type": "code",
   "execution_count": 17,
   "id": "96d44d72",
   "metadata": {},
   "outputs": [
    {
     "name": "stdout",
     "output_type": "stream",
     "text": [
      "\n",
      "First 5 rows of students.csv:\n",
      "        Name  Age  Score\n",
      "0     Hamza   20     92\n",
      "1       Ali   22     85\n",
      "2     Ahmed   19     78\n",
      "3   Mudasir   25     90\n",
      "4  Mussawir   20     88\n"
     ]
    }
   ],
   "source": [
    "students_df = pd.read_csv(\"book1.csv\")\n",
    "print(\"\\nFirst 5 rows of students.csv:\\n\", students_df.head())"
   ]
  }
 ],
 "metadata": {
  "kernelspec": {
   "display_name": ".venv",
   "language": "python",
   "name": "python3"
  },
  "language_info": {
   "codemirror_mode": {
    "name": "ipython",
    "version": 3
   },
   "file_extension": ".py",
   "mimetype": "text/x-python",
   "name": "python",
   "nbconvert_exporter": "python",
   "pygments_lexer": "ipython3",
   "version": "3.13.9"
  }
 },
 "nbformat": 4,
 "nbformat_minor": 5
}
