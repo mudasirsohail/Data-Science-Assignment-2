{
 "cells": [
  {
   "cell_type": "markdown",
   "id": "52700091",
   "metadata": {},
   "source": [
    "# Task 1: Assigning grades"
   ]
  },
  {
   "cell_type": "code",
   "execution_count": null,
   "id": "da98079d",
   "metadata": {
    "vscode": {
     "languageId": "plaintext"
    }
   },
   "outputs": [],
   "source": [
    "marks = float(input(\"Enter marks percentage: \"))\n",
    "if marks > 90:\n",
    "    print(\"Grade A\")\n",
    "elif marks > 75:\n",
    "    print(\"Grade B\")\n",
    "elif marks > 65:\n",
    "    print(\"Grade C\")\n",
    "else:\n",
    "    print(\"Grade below C\")"
   ]
  },
  {
   "cell_type": "markdown",
   "id": "fedd6458",
   "metadata": {},
   "source": [
    "# Task 2: Check positive or negative"
   ]
  },
  {
   "cell_type": "code",
   "execution_count": null,
   "id": "71c5410d",
   "metadata": {
    "vscode": {
     "languageId": "plaintext"
    }
   },
   "outputs": [],
   "source": [
    "num = float(input(\"Enter a number: \"))\n",
    "if num > 0:\n",
    "    print(\"Positive\")\n",
    "elif num < 0:\n",
    "    print(\"Negative\")\n",
    "else:\n",
    "    print(\"Zero\")"
   ]
  },
  {
   "cell_type": "markdown",
   "id": "25f65e40",
   "metadata": {},
   "source": [
    "# Task 3: Check even or odd"
   ]
  },
  {
   "cell_type": "code",
   "execution_count": null,
   "id": "e2c5aa84",
   "metadata": {
    "vscode": {
     "languageId": "plaintext"
    }
   },
   "outputs": [],
   "source": [
    "num = int(input(\"Enter a number: \"))\n",
    "if num % 2 == 0:\n",
    "    print(\"Even\")\n",
    "else:\n",
    "    print(\"Odd\")"
   ]
  },
  {
   "cell_type": "markdown",
   "id": "45ec60d1",
   "metadata": {},
   "source": [
    "# Task 4: Check prime number"
   ]
  },
  {
   "cell_type": "markdown",
   "id": "41bcbe93",
   "metadata": {},
   "source": [
    "num = int(input(\"Enter a number: \"))\n",
    "if num > 1:\n",
    "    for i in range(2, int(num**0.5)+1):\n",
    "        if num % i == 0:\n",
    "            print(\"Not Prime\")\n",
    "            break\n",
    "    else:\n",
    "        print(\"Prime\")\n",
    "else:\n",
    "    print(\"Not Prime\")"
   ]
  },
  {
   "cell_type": "markdown",
   "id": "893cc398",
   "metadata": {},
   "source": [
    "# Task 5: Print \"Hello\" if divisible by 7"
   ]
  },
  {
   "cell_type": "code",
   "execution_count": null,
   "id": "26f96f07",
   "metadata": {
    "vscode": {
     "languageId": "plaintext"
    }
   },
   "outputs": [],
   "source": [
    "num = int(input(\"Enter a number: \"))\n",
    "if num % 7 == 0:\n",
    "    print(\"Hello\")"
   ]
  },
  {
   "cell_type": "markdown",
   "id": "72cf016e",
   "metadata": {},
   "source": [
    "\n",
    "# Task 6: Print lowest number from two values"
   ]
  },
  {
   "cell_type": "code",
   "execution_count": null,
   "id": "1d526ac2",
   "metadata": {
    "vscode": {
     "languageId": "plaintext"
    }
   },
   "outputs": [],
   "source": [
    "num1 = float(input(\"Enter first number: \"))\n",
    "num2 = float(input(\"Enter second number: \"))\n",
    "if num1 < num2:\n",
    "    print(f\"Lowest: {num1}\")\n",
    "else:\n",
    "    print(f\"Lowest: {num2}\")"
   ]
  },
  {
   "cell_type": "markdown",
   "id": "7035fd1f",
   "metadata": {},
   "source": [
    "# Task 7: Check vowel or consonant"
   ]
  },
  {
   "cell_type": "code",
   "execution_count": null,
   "id": "17e56460",
   "metadata": {
    "vscode": {
     "languageId": "plaintext"
    }
   },
   "outputs": [],
   "source": [
    "x = input(\"Enter a single character: \").lower()\n",
    "if x in 'aeiou':\n",
    "    print(\"Vowel\")\n",
    "else:\n",
    "    print(\"Consonant\")"
   ]
  },
  {
   "cell_type": "markdown",
   "id": "b83364a6",
   "metadata": {},
   "source": [
    "# Task 8: Check right-angled triangle"
   ]
  },
  {
   "cell_type": "code",
   "execution_count": null,
   "id": "d0383fee",
   "metadata": {
    "vscode": {
     "languageId": "plaintext"
    }
   },
   "outputs": [],
   "source": [
    "a = float(input(\"Enter first side: \"))\n",
    "b = float(input(\"Enter second side: \"))\n",
    "c = float(input(\"Enter third side: \"))\n",
    "sides = sorted([a, b, c])\n",
    "if abs(sides[0]**2 + sides[1]**2 - sides[2]**2) < 1e-6:\n",
    "    print(\"Right-angle triangle\")\n",
    "else:\n",
    "    print(\"Not a right-angle triangle\")"
   ]
  },
  {
   "cell_type": "markdown",
   "id": "60b5bd52",
   "metadata": {},
   "source": [
    "# Task 9: Solve quadratic equation"
   ]
  },
  {
   "cell_type": "code",
   "execution_count": null,
   "id": "39f0efbd",
   "metadata": {
    "vscode": {
     "languageId": "plaintext"
    }
   },
   "outputs": [],
   "source": [
    "import math\n",
    "a = float(input(\"Enter a: \"))\n",
    "b = float(input(\"Enter b: \"))\n",
    "c = float(input(\"Enter c: \"))\n",
    "d = b**2 - 4*a*c\n",
    "if d >= 0:\n",
    "    root1 = (-b + math.sqrt(d)) / (2*a)\n",
    "    root2 = (-b - math.sqrt(d)) / (2*a)\n",
    "    print(f\"Roots: {root1}, {root2}\")\n",
    "else:\n",
    "    print(\"No real roots\")"
   ]
  },
  {
   "cell_type": "markdown",
   "id": "a91ef235",
   "metadata": {},
   "source": [
    "\n",
    "# Task 10: Display names based on score"
   ]
  },
  {
   "cell_type": "code",
   "execution_count": null,
   "id": "33c9aea0",
   "metadata": {
    "vscode": {
     "languageId": "plaintext"
    }
   },
   "outputs": [],
   "source": [
    "score = float(input(\"Enter score: \"))\n",
    "if score > 30:\n",
    "    print(\"Kamran Akmal\")\n",
    "elif 20 < score <= 30:\n",
    "    print(\"Shoaib Akhtar\")\n",
    "elif 10 < score <= 20:\n",
    "    print(\"Shahid Afridi\")"
   ]
  },
  {
   "cell_type": "markdown",
   "id": "1de20025",
   "metadata": {},
   "source": [
    "# Task 11: Password validation"
   ]
  },
  {
   "cell_type": "code",
   "execution_count": null,
   "id": "e98b0d81",
   "metadata": {
    "vscode": {
     "languageId": "plaintext"
    }
   },
   "outputs": [],
   "source": [
    "password = input(\"Enter password: \")\n",
    "if 7 <= len(password) <= 15 and any(char.isdigit() for char in password) and any(not char.isalnum() for char in password):\n",
    "    print(\"Password valid\")\n",
    "else:\n",
    "    print(\"Password invalid\")\n"
   ]
  },
  {
   "cell_type": "markdown",
   "id": "b0c018ee",
   "metadata": {},
   "source": [
    "# Task 12: Check upper-case or lower-case"
   ]
  },
  {
   "cell_type": "code",
   "execution_count": null,
   "id": "79fd4232",
   "metadata": {
    "vscode": {
     "languageId": "plaintext"
    }
   },
   "outputs": [],
   "source": [
    "char = input(\"Enter a single character: \")\n",
    "if len(char) == 1:\n",
    "    if ord(char) >= 65 and ord(char) <= 90:\n",
    "        print(\"Upper-case\")\n",
    "    elif ord(char) >= 97 and ord(char) <= 122:\n",
    "        print(\"Lower-case\")\n",
    "    else:\n",
    "        print(\"Not an alphabet\")\n",
    "else:\n",
    "    print(\"Enter only one character!\")"
   ]
  },
  {
   "cell_type": "markdown",
   "id": "0ec0d452",
   "metadata": {},
   "source": [
    "# Task 13: Check if alphabet"
   ]
  },
  {
   "cell_type": "code",
   "execution_count": null,
   "id": "02e569dd",
   "metadata": {
    "vscode": {
     "languageId": "plaintext"
    }
   },
   "outputs": [],
   "source": [
    "char = input(\"Enter a single character: \")\n",
    "if len(char) == 1:\n",
    "    if char.isalpha():\n",
    "        print(\"Alphabet\")\n",
    "    else:\n",
    "        print(\"Not an alphabet\")\n",
    "else:\n",
    "    print(\"Error: Enter only one character!\")"
   ]
  },
  {
   "cell_type": "markdown",
   "id": "5de1cea7",
   "metadata": {},
   "source": [
    "# Task 14: Check for duplicates in 5 integers\n"
   ]
  },
  {
   "cell_type": "code",
   "execution_count": null,
   "id": "7372d3f4",
   "metadata": {
    "vscode": {
     "languageId": "plaintext"
    }
   },
   "outputs": [],
   "source": [
    "nums = []\n",
    "for i in range(5):\n",
    "    nums.append(int(input(f\"Enter integer {i+1}: \")))\n",
    "if len(nums) != len(set(nums)):\n",
    "    print(\"DUPLICATES\")\n",
    "else:\n",
    "    print(\"ALL UNIQUE\")"
   ]
  },
  {
   "cell_type": "markdown",
   "id": "ec0bd7fe",
   "metadata": {},
   "source": [
    "# Task 15: Check if integer is between 1 and 100"
   ]
  },
  {
   "cell_type": "code",
   "execution_count": null,
   "id": "9d105fa5",
   "metadata": {
    "vscode": {
     "languageId": "plaintext"
    }
   },
   "outputs": [],
   "source": [
    "num = int(input(\"Enter an integer: \"))\n",
    "if 1 <= num <= 100:\n",
    "    print(\"OK\")\n"
   ]
  }
 ],
 "metadata": {
  "language_info": {
   "name": "python"
  }
 },
 "nbformat": 4,
 "nbformat_minor": 5
}
