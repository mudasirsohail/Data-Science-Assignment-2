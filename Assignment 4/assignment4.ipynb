{
 "cells": [
  {
   "cell_type": "markdown",
   "id": "22d3ed53",
   "metadata": {},
   "source": [
    "# Name : Mudasir Sohail\n",
    "# Assignment 4"
   ]
  },
  {
   "cell_type": "markdown",
   "id": "9c3274d4",
   "metadata": {},
   "source": []
  },
  {
   "cell_type": "markdown",
   "id": "54a94c5d",
   "metadata": {},
   "source": [
    "# 1. Print first 10 natural numbers"
   ]
  },
  {
   "cell_type": "code",
   "execution_count": null,
   "id": "21654281",
   "metadata": {
    "vscode": {
     "languageId": "plaintext"
    }
   },
   "outputs": [],
   "source": [
    "for i in range(1, 11):\n",
    "    print(i)"
   ]
  },
  {
   "cell_type": "markdown",
   "id": "653df160",
   "metadata": {},
   "source": [
    "# 2. Sum of all numbers from 1 to a given number"
   ]
  },
  {
   "cell_type": "code",
   "execution_count": null,
   "id": "7f1406d0",
   "metadata": {
    "vscode": {
     "languageId": "plaintext"
    }
   },
   "outputs": [],
   "source": [
    "n = int(input(\"Enter a number: \"))\n",
    "total = 0\n",
    "for i in range(1, n + 1):\n",
    "    total += i\n",
    "print(\"Sum:\", total)"
   ]
  },
  {
   "cell_type": "markdown",
   "id": "53691b99",
   "metadata": {},
   "source": [
    "# 3. Multiplication table of a given number"
   ]
  },
  {
   "cell_type": "code",
   "execution_count": null,
   "id": "fb61fb63",
   "metadata": {
    "vscode": {
     "languageId": "plaintext"
    }
   },
   "outputs": [],
   "source": [
    "num = int(input(\"Enter a number: \"))\n",
    "for i in range(1, 11):\n",
    "    print(num, \"x\", i, \"=\", num * i)"
   ]
  },
  {
   "cell_type": "markdown",
   "id": "a56973ee",
   "metadata": {},
   "source": [
    "# 4. Display numbers based on given conditions"
   ]
  },
  {
   "cell_type": "code",
   "execution_count": null,
   "id": "88927e15",
   "metadata": {
    "vscode": {
     "languageId": "plaintext"
    }
   },
   "outputs": [],
   "source": [
    "numbers = [12, 75, 150, 180, 145, 525, 50]\n",
    "for num in numbers:\n",
    "    if num > 500:\n",
    "        break\n",
    "    if num > 150:\n",
    "        continue\n",
    "    if num % 5 == 0:\n",
    "        print(num)"
   ]
  },
  {
   "cell_type": "markdown",
   "id": "d43c098a",
   "metadata": {},
   "source": [
    "# 5. Print list in reverse order using loop"
   ]
  },
  {
   "cell_type": "code",
   "execution_count": null,
   "id": "8197e3b5",
   "metadata": {
    "vscode": {
     "languageId": "plaintext"
    }
   },
   "outputs": [],
   "source": [
    "numbers = [10, 20, 30, 40, 50]\n",
    "for i in range(len(numbers) - 1, -1, -1):\n",
    "    print(numbers[i])"
   ]
  },
  {
   "cell_type": "markdown",
   "id": "6bf9ae63",
   "metadata": {},
   "source": [
    "# 6. Display all prime numbers within a range"
   ]
  },
  {
   "cell_type": "code",
   "execution_count": null,
   "id": "f4c08dc5",
   "metadata": {
    "vscode": {
     "languageId": "plaintext"
    }
   },
   "outputs": [],
   "source": [
    "start = int(input(\"Enter start: \"))\n",
    "end = int(input(\"Enter end: \"))\n",
    "\n",
    "for num in range(start, end + 1):\n",
    "    if num > 1:\n",
    "        for i in range(2, num):\n",
    "            if num % i == 0:\n",
    "                break\n",
    "        else:\n",
    "            print(num)"
   ]
  },
  {
   "cell_type": "markdown",
   "id": "501c2364",
   "metadata": {},
   "source": [
    "# 7. Find factorial of a given number"
   ]
  },
  {
   "cell_type": "code",
   "execution_count": null,
   "id": "399d4f20",
   "metadata": {
    "vscode": {
     "languageId": "plaintext"
    }
   },
   "outputs": [],
   "source": [
    "n = int(input(\"Enter a number: \"))\n",
    "fact = 1\n",
    "for i in range(1, n + 1):\n",
    "    fact *= i\n",
    "print(\"Factorial:\", fact)"
   ]
  },
  {
   "cell_type": "markdown",
   "id": "c316d197",
   "metadata": {},
   "source": [
    "# 8. Find sum of series up to n terms"
   ]
  },
  {
   "cell_type": "code",
   "execution_count": null,
   "id": "a45f3c8d",
   "metadata": {
    "vscode": {
     "languageId": "plaintext"
    }
   },
   "outputs": [],
   "source": [
    "n = int(input(\"Enter number of terms: \"))\n",
    "sum_series = 0\n",
    "for i in range(1, n + 1):\n",
    "    sum_series += i\n",
    "print(\"Sum of series:\", sum_series)"
   ]
  },
  {
   "cell_type": "markdown",
   "id": "a52c74c5",
   "metadata": {},
   "source": [
    "# 9. Guess a number between 1 and 9"
   ]
  },
  {
   "cell_type": "code",
   "execution_count": null,
   "id": "c30c268d",
   "metadata": {
    "vscode": {
     "languageId": "plaintext"
    }
   },
   "outputs": [],
   "source": [
    "import random\n",
    "number = random.randint(1, 9)\n",
    "\n",
    "while True:\n",
    "    guess = int(input(\"Guess a number between 1 and 9: \"))\n",
    "    if guess == number:\n",
    "        print(\"Well guessed!\")\n",
    "        break"
   ]
  },
  {
   "cell_type": "markdown",
   "id": "34211e14",
   "metadata": {},
   "source": [
    "# 10. Reverse a word"
   ]
  },
  {
   "cell_type": "code",
   "execution_count": null,
   "id": "f95e034b",
   "metadata": {
    "vscode": {
     "languageId": "plaintext"
    }
   },
   "outputs": [],
   "source": [
    "word = input(\"Enter a word: \")\n",
    "reversed_word = \"\"\n",
    "for i in word:\n",
    "    reversed_word = i + reversed_word\n",
    "print(\"Reversed word:\", reversed_word)"
   ]
  },
  {
   "cell_type": "markdown",
   "id": "19142ebc",
   "metadata": {},
   "source": [
    "# 11. Count digits and letters in a string"
   ]
  },
  {
   "cell_type": "code",
   "execution_count": null,
   "id": "ce78dc1f",
   "metadata": {
    "vscode": {
     "languageId": "plaintext"
    }
   },
   "outputs": [],
   "source": [
    "text = input(\"Enter a string: \")\n",
    "letters = 0\n",
    "digits = 0\n",
    "\n",
    "for ch in text:\n",
    "    if ch.isalpha():\n",
    "        letters += 1\n",
    "    elif ch.isdigit():\n",
    "        digits += 1\n",
    "\n",
    "print(\"Letters:\", letters)\n",
    "print(\"Digits:\", digits)"
   ]
  },
  {
   "cell_type": "markdown",
   "id": "6333caf9",
   "metadata": {},
   "source": [
    "# 12. Calculate length of string (without using len)"
   ]
  },
  {
   "cell_type": "code",
   "execution_count": null,
   "id": "fd495468",
   "metadata": {
    "vscode": {
     "languageId": "plaintext"
    }
   },
   "outputs": [],
   "source": [
    "text = input(\"Enter a string: \")\n",
    "count = 0\n",
    "for i in text:\n",
    "    count += 1\n",
    "print(\"Length of string:\", count)"
   ]
  },
  {
   "cell_type": "markdown",
   "id": "77ecec8f",
   "metadata": {},
   "source": [
    "# 13. Count vowels and consonants in your full name"
   ]
  },
  {
   "cell_type": "code",
   "execution_count": null,
   "id": "230ba977",
   "metadata": {
    "vscode": {
     "languageId": "plaintext"
    }
   },
   "outputs": [],
   "source": [
    "name = input(\"Enter your full name: \").lower()\n",
    "vowels = 0\n",
    "consonants = 0\n",
    "\n",
    "for ch in name:\n",
    "    if ch in 'aeiou':\n",
    "        vowels += 1\n",
    "    elif ch.isalpha():\n",
    "        consonants += 1\n",
    "\n",
    "print(\"Vowels:\", vowels)\n",
    "print(\"Consonants:\", consonants)"
   ]
  },
  {
   "cell_type": "markdown",
   "id": "ecc3f4cf",
   "metadata": {},
   "source": [
    "# 14. Generate list of values from user input"
   ]
  },
  {
   "cell_type": "code",
   "execution_count": null,
   "id": "5bbb5847",
   "metadata": {
    "vscode": {
     "languageId": "plaintext"
    }
   },
   "outputs": [],
   "source": [
    "values = []\n",
    "n = int(input(\"How many values you want to enter? \"))\n",
    "for i in range(n):\n",
    "    val = input(\"Enter value: \")\n",
    "    values.append(val)\n",
    "print(\"Your list:\", values)"
   ]
  },
  {
   "cell_type": "markdown",
   "id": "ad3dc78a",
   "metadata": {},
   "source": [
    "# 15. Copy elements from one list to another"
   ]
  },
  {
   "cell_type": "code",
   "execution_count": null,
   "id": "c8428719",
   "metadata": {
    "vscode": {
     "languageId": "plaintext"
    }
   },
   "outputs": [],
   "source": [
    "list1 = [1, 2, 3, 4, 5]\n",
    "list2 = []\n",
    "for i in list1:\n",
    "    list2.append(i)\n",
    "print(\"Copied list:\", list2)"
   ]
  },
  {
   "cell_type": "markdown",
   "id": "78cb9258",
   "metadata": {},
   "source": [
    "# 16. Select maximum value from list (without using max)"
   ]
  },
  {
   "cell_type": "code",
   "execution_count": null,
   "id": "3e079029",
   "metadata": {
    "vscode": {
     "languageId": "plaintext"
    }
   },
   "outputs": [],
   "source": [
    "numbers = [10, 25, 5, 40, 35]\n",
    "max_num = numbers[0]\n",
    "for n in numbers:\n",
    "    if n > max_num:\n",
    "        max_num = n\n",
    "print(\"Maximum value:\", max_num)"
   ]
  },
  {
   "cell_type": "markdown",
   "id": "7ee2d2da",
   "metadata": {},
   "source": [
    "# 17. Count even and odd numbers"
   ]
  },
  {
   "cell_type": "code",
   "execution_count": null,
   "id": "11989b05",
   "metadata": {
    "vscode": {
     "languageId": "plaintext"
    }
   },
   "outputs": [],
   "source": [
    "numbers = (1, 2, 3, 4, 5, 6, 7, 8, 9)\n",
    "even = 0\n",
    "odd = 0\n",
    "\n",
    "for n in numbers:\n",
    "    if n % 2 == 0:\n",
    "        even += 1\n",
    "    else:\n",
    "        odd += 1\n",
    "\n",
    "print(\"Even numbers:\", even)\n",
    "print(\"Odd numbers:\", odd)"
   ]
  },
  {
   "cell_type": "markdown",
   "id": "9bd097c6",
   "metadata": {},
   "source": [
    "# 18. Sum of squares of each element"
   ]
  },
  {
   "cell_type": "code",
   "execution_count": null,
   "id": "0d097989",
   "metadata": {
    "vscode": {
     "languageId": "plaintext"
    }
   },
   "outputs": [],
   "source": [
    "numbers = [3, 5, 23, 6, 5, 1, 2, 9, 8]\n",
    "sum_squares = 0\n",
    "for n in numbers:\n",
    "    sum_squares += n ** 2\n",
    "print(\"Sum of squares:\", sum_squares)"
   ]
  },
  {
   "cell_type": "markdown",
   "id": "4821493f",
   "metadata": {},
   "source": [
    "# 19. Work with gadgets list"
   ]
  },
  {
   "cell_type": "code",
   "execution_count": null,
   "id": "5b592b6f",
   "metadata": {
    "vscode": {
     "languageId": "plaintext"
    }
   },
   "outputs": [],
   "source": [
    "gadgets = [\"Mobile\", \"Laptop\", 100, \"Camera\", 310.28, \"Speakers\",\n",
    "            27.00, \"Television\", 1000, \"Laptop Case\", \"Camera Lens\"]\n",
    "\n",
    "strings = []\n",
    "numbers = []\n",
    "\n",
    "for item in gadgets:\n",
    "    if isinstance(item, str):\n",
    "        strings.append(item)\n",
    "    else:\n",
    "        numbers.append(item)\n",
    "\n",
    "print(\"Strings list:\", strings)\n",
    "print(\"Numbers list:\", numbers)\n",
    "\n",
    "# Sorting\n",
    "strings.sort()\n",
    "print(\"Strings Ascending:\", strings)\n",
    "\n",
    "strings.sort(reverse=True)\n",
    "print(\"Strings Descending:\", strings)\n",
    "\n",
    "numbers.sort()\n",
    "print(\"Numbers Ascending:\", numbers)\n",
    "\n",
    "numbers.sort(reverse=True)\n",
    "print(\"Numbers Descending:\", numbers)"
   ]
  }
 ],
 "metadata": {
  "language_info": {
   "name": "python"
  }
 },
 "nbformat": 4,
 "nbformat_minor": 5
}
