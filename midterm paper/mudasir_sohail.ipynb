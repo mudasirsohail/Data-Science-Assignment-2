{
 "cells": [
  {
   "cell_type": "markdown",
   "id": "2c7d43a5",
   "metadata": {},
   "source": [
    "<i>Please write your Name and CNIC in this cell "
   ]
  },
  {
   "cell_type": "markdown",
   "id": "3929167d",
   "metadata": {},
   "source": [
    "# Name : Mudasir Sohail\n",
    "# Course : Data Science\n",
    "# CNIC : 43203-9113544-7"
   ]
  },
  {
   "cell_type": "markdown",
   "id": "6a30eb94",
   "metadata": {},
   "source": [
    "# Question 01 Choose the correct answers\n",
    "\n",
    "(10 Marks)\n",
    "# <i>01\n",
    "arr = np.array([[1, 2], [3, 4], [5, 6]])\n",
    "<br>sub = arr[1:3]\n",
    "<br>sub[0,0] = 99\n",
    "\n",
    "<br>After this, what will arr[1,0] be?\n",
    "<br>A) 3\n",
    "<br>B) 99\n",
    "<br>C) 5\n",
    "<br>D) It raises an error\n",
    "\n",
    "# 02 \n",
    "arr = np.arange(27).reshape(3,3,3)\n",
    "<br>x = arr[1, :, 1]\n",
    "\n",
    "<br>Which statement about x is true?\n",
    "<br>A) x is a 1D array containing [10, 13, 16]\n",
    "<br>B) x has shape (3,3)\n",
    "<br>C) x is a 2D slice with one fixed depth index\n",
    "<br>D) x is a copy, not a view\n",
    "\n",
    "# 03\n",
    "arr = np.arange(48).reshape(2,4,6)\n",
    "<br>result = arr[:, 1:3, 2:5]\n",
    "\n",
    "<br>Which is true about result?\n",
    "<br>A) It selects 2 blocks, 2 rows, 3 columns → shape (2,2,3)\n",
    "<br>B) It selects 1 block, 2 rows, 3 columns → shape (1,2,3)\n",
    "<br>C) It flattens to (12,)\n",
    "<br>D) It copies the data into a new array\n",
    "\n",
    "# 04\n",
    "df = pd.DataFrame({'A':[10,20,30,40],'B':[50,60,70,80]}, index=['a','b','c','d'])\n",
    "<br>df.loc['a':'c']\n",
    "<br>df.iloc[0:3]\n",
    "\n",
    "<br>Which statement is true?\n",
    "<br>A) Both select the same rows\n",
    "<br>B) .loc excludes 'c' while .iloc includes index 2\n",
    "<br>C) .loc includes 'c' while .iloc excludes index 3\n",
    "<br>D) Both include one extra row\n",
    "\n",
    "# 05\n",
    "df = pd.DataFrame({'X':[1,2,3,4],'Y':[5,6,7,8]})\n",
    "<br>sub = df[df['X']>2]['Y']\n",
    "<br>sub.iloc[0] = 100\n",
    "\n",
    "<br>What happens?\n",
    "<br>A) df is updated\n",
    "<br>B) Only sub changes\n",
    "<br>C) SettingWithCopyWarning may occur and df remains unchanged\n",
    "<br>D) Raises a KeyError\n",
    "\n",
    "# 06\n",
    "You have s = \"DataScience\".\n",
    "\n",
    "<br>Which statement about slicing is true?\n",
    "<br>A) s[::-1] reverses the string by creating a new one.\n",
    "<br>B) s[::] returns a reference to the original string.\n",
    "<br>C) s[2:5:-1] returns 'taS'.\n",
    "<br>D) s[2:5] modifies the original string in place.\n",
    "\n",
    "# 07 \n",
    "What does the split() method do in Python?\n",
    "\n",
    "<br>A) Joins multiple strings into one\n",
    "<br>B) Divides a string into parts and returns a list\n",
    "<br>C) Changes all letters to lowercase\n",
    "<br>D) Removes spaces from a string\n",
    "\n",
    "# 08 \n",
    "What is a tuple in Python?\n",
    "\n",
    "<br>A) A list that can be changed after creation\n",
    "<br>B) A collection that stores data in key–value pairs\n",
    "<br>C) An ordered collection of items that cannot be changed\n",
    "<br>D) A special type of dictionary\n",
    "\n",
    "# 09\n",
    "When does a NameError occur in Python?\n",
    "\n",
    "<BR>A) When a variable name is not defined before use\n",
    "<BR>B) When a list index is out of range\n",
    "<BR>C) When dividing a number by zero\n",
    "<BR>D) When a file cannot be opened\n",
    "\n",
    "# 10\n",
    "What is a main characteristic of a set in Python?\n",
    "\n",
    "<br>A) It allows duplicate values\n",
    "<br>B) It stores items in a specific order\n",
    "<br>C) It does not allow duplicate elements\n",
    "<br>D) It can be indexed like a list"
   ]
  },
  {
   "cell_type": "markdown",
   "id": "7bec7cd5",
   "metadata": {},
   "source": [
    "# Question 1 Mcqs (Answers)\n",
    "1.  B) 99\n",
    "2.  A) x is a 1D array containing [10, 13, 16]\n",
    "3.  A) It selects 2 blocks, 2 rows, 3 columns → shape (2,2,3)\n",
    "4.  C) .loc includes 'c' while .iloc excludes index 3\n",
    "5.  C) SettingWithCopyWarning may occur and df remains unchanged\n",
    "6.  A) s[::-1] reverses the string by creating a new one.\n",
    "7.  B) Divides a string into parts and returns a list\n",
    "8.  C) An ordered collection of items that cannot be changed\n",
    "9.  A) When a variable name is not defined before use\n",
    "10. C) It does not allow duplicate elements\n"
   ]
  },
  {
   "cell_type": "markdown",
   "id": "4971fe29",
   "metadata": {},
   "source": [
    "# Question 02  Write a python function program that merges arrays(lists) , removes duplicates, and sort the list in ascending order, all implemented under a single function. \n",
    "\n",
    "<br> (6 Marks)"
   ]
  },
  {
   "cell_type": "code",
   "execution_count": 2,
   "id": "b676de40",
   "metadata": {},
   "outputs": [
    {
     "name": "stdout",
     "output_type": "stream",
     "text": [
      "[1, 2, 3, 4, 5]\n"
     ]
    }
   ],
   "source": [
    "#QUESTION 02 SOLUTION HERE \n",
    "def merge_remove_duplicates(*arrays):\n",
    "    merged_list = []\n",
    "    for arr in arrays:\n",
    "        merged_list.extend(arr)\n",
    "    unique_list = list(set(merged_list))\n",
    "    unique_list.sort()\n",
    "    return unique_list\n",
    "list1 = [1,2,3]\n",
    "list2 = [3,4,5]\n",
    "list3 = [2,3,4]\n",
    "result = merge_remove_duplicates(list1, list2, list3)\n",
    "print(result)"
   ]
  },
  {
   "cell_type": "markdown",
   "id": "0f5dce57",
   "metadata": {},
   "source": [
    "# Question 03: Write a Python Program using conditional statements that greets user following:    \n",
    "<br> a) Good Morning \n",
    "<br> b) Good Noon \n",
    "<br> c) Good Afternoon \n",
    "<br> d) Good Evening \n",
    "<br> e) Good Night\n",
    "<br>\n",
    "<br> (5 Marks)"
   ]
  },
  {
   "cell_type": "code",
   "execution_count": 1,
   "id": "256ac03d",
   "metadata": {},
   "outputs": [
    {
     "name": "stdout",
     "output_type": "stream",
     "text": [
      "Good Morning MudasirSohail\n"
     ]
    }
   ],
   "source": [
    "#QUESTIONS 03 SOLUTION HERE\n",
    "import datetime\n",
    "hour = datetime.datetime.now().hour \n",
    "username = \"MudasirSohail\"\n",
    "if hour < 12:\n",
    "    print(f\"Good Morning {username}\")\n",
    "elif hour < 15:\n",
    "    print(f\"Good Noon {username}\")\n",
    "elif hour < 18:\n",
    "    print(f\"Good Afternoon {username}\")\n",
    "elif hour < 21:\n",
    "    print(f\"Good Evening {username}\")\n",
    "elif hour < 24:\n",
    "    print(f\"Good Night {username}\")\n",
    "else:\n",
    "    print(\"Enter correct time\")"
   ]
  },
  {
   "cell_type": "markdown",
   "id": "b0ae9623",
   "metadata": {},
   "source": [
    " # Question 04: Write a program to Calculate the sum of all numbers from 1 to a given number. \n",
    "<br> (5 Marks)"
   ]
  },
  {
   "cell_type": "code",
   "execution_count": 65,
   "id": "cea7788e",
   "metadata": {},
   "outputs": [
    {
     "name": "stdout",
     "output_type": "stream",
     "text": [
      "Sum of numbers from 1 to 10 is : 55\n"
     ]
    }
   ],
   "source": [
    "#QUESTION  04 SOLUTION HERE\n",
    "def sum_of_numbers(n):\n",
    "    total = 0\n",
    "    for i in range(1, n + 1):\n",
    "        total += i\n",
    "    return total\n",
    "number = int(input(\"enter number: \"))\n",
    "result = sum_of_numbers(number)\n",
    "print(f\"Sum of numbers from 1 to {number} is : {result}\")\n"
   ]
  },
  {
   "cell_type": "markdown",
   "id": "f9f793de",
   "metadata": {},
   "source": [
    "# Question 05:  students = { \"student1\": {\"name\": \"Alice\",\"age\": 20,\"grades\": {\"math\": 85, \"science\": 90}}, \"student2\": {\"name\": \"Bob\",\"age\": 22,\"grades\": {\"math\": 78, \"science\": 88 } } }\n",
    "<br> Qs: 1 Delete Charlie’s Record\n",
    "<br> Qs:2 Delete Bob’s Math Grade\n",
    "\n",
    "<br>(4 Marks)"
   ]
  },
  {
   "cell_type": "code",
   "execution_count": 66,
   "id": "102e8d8d",
   "metadata": {},
   "outputs": [
    {
     "name": "stdout",
     "output_type": "stream",
     "text": [
      "{'student1': {'name': 'charlie', 'age': 20, 'grades': {'maths': 85, 'science': 90}}, 'student2': {'name': 'bob', 'age': 22, 'grades': {'maths': 78, 'science': 88}}}\n"
     ]
    },
    {
     "data": {
      "text/plain": [
       "{'student2': {'name': 'bob', 'age': 22, 'grades': {'science': 88}}}"
      ]
     },
     "execution_count": 66,
     "metadata": {},
     "output_type": "execute_result"
    }
   ],
   "source": [
    "#QUESTION 05 SOLUTION HERE \n",
    "students = {\"student1\": {\n",
    "    \"name\": \"charlie\",\n",
    "    \"age\": 20,\n",
    "    \"grades\":{\n",
    "        \"maths\":85,\n",
    "        \"science\":90\n",
    "        }\n",
    "    },\n",
    "            \"student2\": {\n",
    "                \"name\": \"bob\",\n",
    "                \"age\": 22,\n",
    "                \"grades\":{\n",
    "                    \"maths\":78,\n",
    "                    \"science\":88\n",
    "                }\n",
    "            }\n",
    "        }\n",
    "print(students)\n",
    "del students[\"student1\"]\n",
    "students\n",
    "del students[\"student2\"][\"grades\"][\"maths\"]\n",
    "students"
   ]
  },
  {
   "cell_type": "markdown",
   "id": "53c813a7",
   "metadata": {},
   "source": [
    "# Question 06: Create a 2D Numpy Array and Reverse its Rows / Columns / or Both (choose one).  \n",
    "\n",
    "<BR>(5 Marks)"
   ]
  },
  {
   "cell_type": "code",
   "execution_count": 28,
   "id": "0d9279a2",
   "metadata": {},
   "outputs": [
    {
     "data": {
      "text/plain": [
       "array([[4, 3, 2, 1],\n",
       "       [8, 7, 6, 5]])"
      ]
     },
     "execution_count": 28,
     "metadata": {},
     "output_type": "execute_result"
    }
   ],
   "source": [
    "# QUESTION 06 SOLUTION HERE\n",
    "import numpy as np\n",
    "array1 = np.array([[1,2,3,4],[5,6,7,8]])\n",
    "array1[0:,::-1]"
   ]
  },
  {
   "cell_type": "markdown",
   "id": "fd8bc9cb",
   "metadata": {},
   "source": [
    "# Question 07: Create a Small Pandas DataFrame of your choice using Pandas.\n",
    "\n",
    "<br>(5 Marks)"
   ]
  },
  {
   "cell_type": "code",
   "execution_count": 7,
   "id": "b7ad1bd6",
   "metadata": {},
   "outputs": [
    {
     "ename": "TypeError",
     "evalue": "'set' type is unordered",
     "output_type": "error",
     "traceback": [
      "\u001b[31m---------------------------------------------------------------------------\u001b[39m",
      "\u001b[31mTypeError\u001b[39m                                 Traceback (most recent call last)",
      "\u001b[36mCell\u001b[39m\u001b[36m \u001b[39m\u001b[32mIn[7]\u001b[39m\u001b[32m, line 9\u001b[39m\n\u001b[32m      2\u001b[39m \u001b[38;5;28;01mimport\u001b[39;00m\u001b[38;5;250m \u001b[39m\u001b[34;01mpandas\u001b[39;00m\u001b[38;5;250m \u001b[39m\u001b[38;5;28;01mas\u001b[39;00m\u001b[38;5;250m \u001b[39m\u001b[34;01mpd\u001b[39;00m\n\u001b[32m      4\u001b[39m data1 = {\n\u001b[32m      5\u001b[39m     \u001b[33m\"\u001b[39m\u001b[33mName\u001b[39m\u001b[33m\"\u001b[39m : {\u001b[33m\"\u001b[39m\u001b[33mAli\u001b[39m\u001b[33m\"\u001b[39m, \u001b[33m\"\u001b[39m\u001b[33mAhmed\u001b[39m\u001b[33m\"\u001b[39m, \u001b[33m\"\u001b[39m\u001b[33mHamza\u001b[39m\u001b[33m\"\u001b[39m},\n\u001b[32m      6\u001b[39m     \u001b[33m\"\u001b[39m\u001b[33mAge\u001b[39m\u001b[33m\"\u001b[39m : {\u001b[32m20\u001b[39m,\u001b[32m25\u001b[39m,\u001b[32m30\u001b[39m},\n\u001b[32m      7\u001b[39m     \u001b[33m\"\u001b[39m\u001b[33mCourse\u001b[39m\u001b[33m\"\u001b[39m: {\u001b[33m\"\u001b[39m\u001b[33mData Science\u001b[39m\u001b[33m\"\u001b[39m, \u001b[33m\"\u001b[39m\u001b[33mDigital Marketing\u001b[39m\u001b[33m\"\u001b[39m, \u001b[33m\"\u001b[39m\u001b[33mCloud Computing\u001b[39m\u001b[33m\"\u001b[39m}\n\u001b[32m      8\u001b[39m     }\n\u001b[32m----> \u001b[39m\u001b[32m9\u001b[39m df = \u001b[43mpd\u001b[49m\u001b[43m.\u001b[49m\u001b[43mDataFrame\u001b[49m\u001b[43m(\u001b[49m\u001b[43mdata1\u001b[49m\u001b[43m)\u001b[49m\n\u001b[32m     10\u001b[39m \u001b[38;5;28mprint\u001b[39m(df)\n",
      "\u001b[36mFile \u001b[39m\u001b[32mc:\\Users\\CCEE\\AppData\\Local\\Programs\\Python\\Python313\\Lib\\site-packages\\pandas\\core\\frame.py:778\u001b[39m, in \u001b[36mDataFrame.__init__\u001b[39m\u001b[34m(self, data, index, columns, dtype, copy)\u001b[39m\n\u001b[32m    772\u001b[39m     mgr = \u001b[38;5;28mself\u001b[39m._init_mgr(\n\u001b[32m    773\u001b[39m         data, axes={\u001b[33m\"\u001b[39m\u001b[33mindex\u001b[39m\u001b[33m\"\u001b[39m: index, \u001b[33m\"\u001b[39m\u001b[33mcolumns\u001b[39m\u001b[33m\"\u001b[39m: columns}, dtype=dtype, copy=copy\n\u001b[32m    774\u001b[39m     )\n\u001b[32m    776\u001b[39m \u001b[38;5;28;01melif\u001b[39;00m \u001b[38;5;28misinstance\u001b[39m(data, \u001b[38;5;28mdict\u001b[39m):\n\u001b[32m    777\u001b[39m     \u001b[38;5;66;03m# GH#38939 de facto copy defaults to False only in non-dict cases\u001b[39;00m\n\u001b[32m--> \u001b[39m\u001b[32m778\u001b[39m     mgr = \u001b[43mdict_to_mgr\u001b[49m\u001b[43m(\u001b[49m\u001b[43mdata\u001b[49m\u001b[43m,\u001b[49m\u001b[43m \u001b[49m\u001b[43mindex\u001b[49m\u001b[43m,\u001b[49m\u001b[43m \u001b[49m\u001b[43mcolumns\u001b[49m\u001b[43m,\u001b[49m\u001b[43m \u001b[49m\u001b[43mdtype\u001b[49m\u001b[43m=\u001b[49m\u001b[43mdtype\u001b[49m\u001b[43m,\u001b[49m\u001b[43m \u001b[49m\u001b[43mcopy\u001b[49m\u001b[43m=\u001b[49m\u001b[43mcopy\u001b[49m\u001b[43m,\u001b[49m\u001b[43m \u001b[49m\u001b[43mtyp\u001b[49m\u001b[43m=\u001b[49m\u001b[43mmanager\u001b[49m\u001b[43m)\u001b[49m\n\u001b[32m    779\u001b[39m \u001b[38;5;28;01melif\u001b[39;00m \u001b[38;5;28misinstance\u001b[39m(data, ma.MaskedArray):\n\u001b[32m    780\u001b[39m     \u001b[38;5;28;01mfrom\u001b[39;00m\u001b[38;5;250m \u001b[39m\u001b[34;01mnumpy\u001b[39;00m\u001b[34;01m.\u001b[39;00m\u001b[34;01mma\u001b[39;00m\u001b[38;5;250m \u001b[39m\u001b[38;5;28;01mimport\u001b[39;00m mrecords\n",
      "\u001b[36mFile \u001b[39m\u001b[32mc:\\Users\\CCEE\\AppData\\Local\\Programs\\Python\\Python313\\Lib\\site-packages\\pandas\\core\\internals\\construction.py:503\u001b[39m, in \u001b[36mdict_to_mgr\u001b[39m\u001b[34m(data, index, columns, dtype, typ, copy)\u001b[39m\n\u001b[32m    499\u001b[39m     \u001b[38;5;28;01melse\u001b[39;00m:\n\u001b[32m    500\u001b[39m         \u001b[38;5;66;03m# dtype check to exclude e.g. range objects, scalars\u001b[39;00m\n\u001b[32m    501\u001b[39m         arrays = [x.copy() \u001b[38;5;28;01mif\u001b[39;00m \u001b[38;5;28mhasattr\u001b[39m(x, \u001b[33m\"\u001b[39m\u001b[33mdtype\u001b[39m\u001b[33m\"\u001b[39m) \u001b[38;5;28;01melse\u001b[39;00m x \u001b[38;5;28;01mfor\u001b[39;00m x \u001b[38;5;129;01min\u001b[39;00m arrays]\n\u001b[32m--> \u001b[39m\u001b[32m503\u001b[39m \u001b[38;5;28;01mreturn\u001b[39;00m \u001b[43marrays_to_mgr\u001b[49m\u001b[43m(\u001b[49m\u001b[43marrays\u001b[49m\u001b[43m,\u001b[49m\u001b[43m \u001b[49m\u001b[43mcolumns\u001b[49m\u001b[43m,\u001b[49m\u001b[43m \u001b[49m\u001b[43mindex\u001b[49m\u001b[43m,\u001b[49m\u001b[43m \u001b[49m\u001b[43mdtype\u001b[49m\u001b[43m=\u001b[49m\u001b[43mdtype\u001b[49m\u001b[43m,\u001b[49m\u001b[43m \u001b[49m\u001b[43mtyp\u001b[49m\u001b[43m=\u001b[49m\u001b[43mtyp\u001b[49m\u001b[43m,\u001b[49m\u001b[43m \u001b[49m\u001b[43mconsolidate\u001b[49m\u001b[43m=\u001b[49m\u001b[43mcopy\u001b[49m\u001b[43m)\u001b[49m\n",
      "\u001b[36mFile \u001b[39m\u001b[32mc:\\Users\\CCEE\\AppData\\Local\\Programs\\Python\\Python313\\Lib\\site-packages\\pandas\\core\\internals\\construction.py:119\u001b[39m, in \u001b[36marrays_to_mgr\u001b[39m\u001b[34m(arrays, columns, index, dtype, verify_integrity, typ, consolidate)\u001b[39m\n\u001b[32m    116\u001b[39m         index = ensure_index(index)\n\u001b[32m    118\u001b[39m     \u001b[38;5;66;03m# don't force copy because getting jammed in an ndarray anyway\u001b[39;00m\n\u001b[32m--> \u001b[39m\u001b[32m119\u001b[39m     arrays, refs = \u001b[43m_homogenize\u001b[49m\u001b[43m(\u001b[49m\u001b[43marrays\u001b[49m\u001b[43m,\u001b[49m\u001b[43m \u001b[49m\u001b[43mindex\u001b[49m\u001b[43m,\u001b[49m\u001b[43m \u001b[49m\u001b[43mdtype\u001b[49m\u001b[43m)\u001b[49m\n\u001b[32m    120\u001b[39m     \u001b[38;5;66;03m# _homogenize ensures\u001b[39;00m\n\u001b[32m    121\u001b[39m     \u001b[38;5;66;03m#  - all(len(x) == len(index) for x in arrays)\u001b[39;00m\n\u001b[32m    122\u001b[39m     \u001b[38;5;66;03m#  - all(x.ndim == 1 for x in arrays)\u001b[39;00m\n\u001b[32m   (...)\u001b[39m\u001b[32m    125\u001b[39m \n\u001b[32m    126\u001b[39m \u001b[38;5;28;01melse\u001b[39;00m:\n\u001b[32m    127\u001b[39m     index = ensure_index(index)\n",
      "\u001b[36mFile \u001b[39m\u001b[32mc:\\Users\\CCEE\\AppData\\Local\\Programs\\Python\\Python313\\Lib\\site-packages\\pandas\\core\\internals\\construction.py:629\u001b[39m, in \u001b[36m_homogenize\u001b[39m\u001b[34m(data, index, dtype)\u001b[39m\n\u001b[32m    626\u001b[39m         val = \u001b[38;5;28mdict\u001b[39m(val)\n\u001b[32m    627\u001b[39m     val = lib.fast_multiget(val, oindex._values, default=np.nan)\n\u001b[32m--> \u001b[39m\u001b[32m629\u001b[39m val = \u001b[43msanitize_array\u001b[49m\u001b[43m(\u001b[49m\u001b[43mval\u001b[49m\u001b[43m,\u001b[49m\u001b[43m \u001b[49m\u001b[43mindex\u001b[49m\u001b[43m,\u001b[49m\u001b[43m \u001b[49m\u001b[43mdtype\u001b[49m\u001b[43m=\u001b[49m\u001b[43mdtype\u001b[49m\u001b[43m,\u001b[49m\u001b[43m \u001b[49m\u001b[43mcopy\u001b[49m\u001b[43m=\u001b[49m\u001b[38;5;28;43;01mFalse\u001b[39;49;00m\u001b[43m)\u001b[49m\n\u001b[32m    630\u001b[39m com.require_length_match(val, index)\n\u001b[32m    631\u001b[39m refs.append(\u001b[38;5;28;01mNone\u001b[39;00m)\n",
      "\u001b[36mFile \u001b[39m\u001b[32mc:\\Users\\CCEE\\AppData\\Local\\Programs\\Python\\Python313\\Lib\\site-packages\\pandas\\core\\construction.py:639\u001b[39m, in \u001b[36msanitize_array\u001b[39m\u001b[34m(data, index, dtype, copy, allow_2d)\u001b[39m\n\u001b[32m    630\u001b[39m     \u001b[38;5;28;01mreturn\u001b[39;00m sanitize_array(\n\u001b[32m    631\u001b[39m         data,\n\u001b[32m    632\u001b[39m         index=index,\n\u001b[32m   (...)\u001b[39m\u001b[32m    635\u001b[39m         allow_2d=allow_2d,\n\u001b[32m    636\u001b[39m     )\n\u001b[32m    638\u001b[39m \u001b[38;5;28;01melse\u001b[39;00m:\n\u001b[32m--> \u001b[39m\u001b[32m639\u001b[39m     \u001b[43m_sanitize_non_ordered\u001b[49m\u001b[43m(\u001b[49m\u001b[43mdata\u001b[49m\u001b[43m)\u001b[49m\n\u001b[32m    640\u001b[39m     \u001b[38;5;66;03m# materialize e.g. generators, convert e.g. tuples, abc.ValueView\u001b[39;00m\n\u001b[32m    641\u001b[39m     data = \u001b[38;5;28mlist\u001b[39m(data)\n",
      "\u001b[36mFile \u001b[39m\u001b[32mc:\\Users\\CCEE\\AppData\\Local\\Programs\\Python\\Python313\\Lib\\site-packages\\pandas\\core\\construction.py:690\u001b[39m, in \u001b[36m_sanitize_non_ordered\u001b[39m\u001b[34m(data)\u001b[39m\n\u001b[32m    686\u001b[39m \u001b[38;5;250m\u001b[39m\u001b[33;03m\"\"\"\u001b[39;00m\n\u001b[32m    687\u001b[39m \u001b[33;03mRaise only for unordered sets, e.g., not for dict_keys\u001b[39;00m\n\u001b[32m    688\u001b[39m \u001b[33;03m\"\"\"\u001b[39;00m\n\u001b[32m    689\u001b[39m \u001b[38;5;28;01mif\u001b[39;00m \u001b[38;5;28misinstance\u001b[39m(data, (\u001b[38;5;28mset\u001b[39m, \u001b[38;5;28mfrozenset\u001b[39m)):\n\u001b[32m--> \u001b[39m\u001b[32m690\u001b[39m     \u001b[38;5;28;01mraise\u001b[39;00m \u001b[38;5;167;01mTypeError\u001b[39;00m(\u001b[33mf\u001b[39m\u001b[33m\"\u001b[39m\u001b[33m'\u001b[39m\u001b[38;5;132;01m{\u001b[39;00m\u001b[38;5;28mtype\u001b[39m(data).\u001b[34m__name__\u001b[39m\u001b[38;5;132;01m}\u001b[39;00m\u001b[33m'\u001b[39m\u001b[33m type is unordered\u001b[39m\u001b[33m\"\u001b[39m)\n",
      "\u001b[31mTypeError\u001b[39m: 'set' type is unordered"
     ]
    }
   ],
   "source": [
    "# QUESTION 07 SOLUTION HERE\n",
    "import pandas as pd\n",
    "\n",
    "data1 = {\n",
    "    \"Name\" : [\"Ali\", \"Ahmed\", \"Hamza\"],\n",
    "    \"Age\" : [20,25,30],\n",
    "    \"Course\": [\"Data Science\", \"Digital Marketing\", \"Cloud Computing\"]\n",
    "    }\n",
    "df = pd.DataFrame(data1)\n",
    "print(df)\n"
   ]
  }
 ],
 "metadata": {
  "kernelspec": {
   "display_name": "Python 3",
   "language": "python",
   "name": "python3"
  },
  "language_info": {
   "codemirror_mode": {
    "name": "ipython",
    "version": 3
   },
   "file_extension": ".py",
   "mimetype": "text/x-python",
   "name": "python",
   "nbconvert_exporter": "python",
   "pygments_lexer": "ipython3",
   "version": "3.13.7"
  }
 },
 "nbformat": 4,
 "nbformat_minor": 5
}
