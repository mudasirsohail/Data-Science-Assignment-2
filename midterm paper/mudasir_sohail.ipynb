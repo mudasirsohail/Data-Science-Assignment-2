{
 "cells": [
  {
   "cell_type": "markdown",
   "id": "2c7d43a5",
   "metadata": {},
   "source": [
    "<i>Please write your Name and CNIC in this cell "
   ]
  },
  {
   "cell_type": "markdown",
   "id": "3929167d",
   "metadata": {},
   "source": [
    "# Name : Mudasir Sohail\n",
    "# Course : Data Science\n",
    "# CNIC : 43203-9113544-7"
   ]
  },
  {
   "cell_type": "markdown",
   "id": "6a30eb94",
   "metadata": {},
   "source": [
    "# Question 01 Choose the correct answers\n",
    "\n",
    "(10 Marks)\n",
    "# <i>01\n",
    "arr = np.array([[1, 2], [3, 4], [5, 6]])\n",
    "<br>sub = arr[1:3]\n",
    "<br>sub[0,0] = 99\n",
    "\n",
    "<br>After this, what will arr[1,0] be?\n",
    "<br>A) 3\n",
    "<br>B) 99\n",
    "<br>C) 5\n",
    "<br>D) It raises an error\n",
    "\n",
    "# 02 \n",
    "arr = np.arange(27).reshape(3,3,3)\n",
    "<br>x = arr[1, :, 1]\n",
    "\n",
    "<br>Which statement about x is true?\n",
    "<br>A) x is a 1D array containing [10, 13, 16]\n",
    "<br>B) x has shape (3,3)\n",
    "<br>C) x is a 2D slice with one fixed depth index\n",
    "<br>D) x is a copy, not a view\n",
    "\n",
    "# 03\n",
    "arr = np.arange(48).reshape(2,4,6)\n",
    "<br>result = arr[:, 1:3, 2:5]\n",
    "\n",
    "<br>Which is true about result?\n",
    "<br>A) It selects 2 blocks, 2 rows, 3 columns → shape (2,2,3)\n",
    "<br>B) It selects 1 block, 2 rows, 3 columns → shape (1,2,3)\n",
    "<br>C) It flattens to (12,)\n",
    "<br>D) It copies the data into a new array\n",
    "\n",
    "# 04\n",
    "df = pd.DataFrame({'A':[10,20,30,40],'B':[50,60,70,80]}, index=['a','b','c','d'])\n",
    "<br>df.loc['a':'c']\n",
    "<br>df.iloc[0:3]\n",
    "\n",
    "<br>Which statement is true?\n",
    "<br>A) Both select the same rows\n",
    "<br>B) .loc excludes 'c' while .iloc includes index 2\n",
    "<br>C) .loc includes 'c' while .iloc excludes index 3\n",
    "<br>D) Both include one extra row\n",
    "\n",
    "# 05\n",
    "df = pd.DataFrame({'X':[1,2,3,4],'Y':[5,6,7,8]})\n",
    "<br>sub = df[df['X']>2]['Y']\n",
    "<br>sub.iloc[0] = 100\n",
    "\n",
    "<br>What happens?\n",
    "<br>A) df is updated\n",
    "<br>B) Only sub changes\n",
    "<br>C) SettingWithCopyWarning may occur and df remains unchanged\n",
    "<br>D) Raises a KeyError\n",
    "\n",
    "# 06\n",
    "You have s = \"DataScience\".\n",
    "\n",
    "<br>Which statement about slicing is true?\n",
    "<br>A) s[::-1] reverses the string by creating a new one.\n",
    "<br>B) s[::] returns a reference to the original string.\n",
    "<br>C) s[2:5:-1] returns 'taS'.\n",
    "<br>D) s[2:5] modifies the original string in place.\n",
    "\n",
    "# 07 \n",
    "What does the split() method do in Python?\n",
    "\n",
    "<br>A) Joins multiple strings into one\n",
    "<br>B) Divides a string into parts and returns a list\n",
    "<br>C) Changes all letters to lowercase\n",
    "<br>D) Removes spaces from a string\n",
    "\n",
    "# 08 \n",
    "What is a tuple in Python?\n",
    "\n",
    "<br>A) A list that can be changed after creation\n",
    "<br>B) A collection that stores data in key–value pairs\n",
    "<br>C) An ordered collection of items that cannot be changed\n",
    "<br>D) A special type of dictionary\n",
    "\n",
    "# 09\n",
    "When does a NameError occur in Python?\n",
    "\n",
    "<BR>A) When a variable name is not defined before use\n",
    "<BR>B) When a list index is out of range\n",
    "<BR>C) When dividing a number by zero\n",
    "<BR>D) When a file cannot be opened\n",
    "\n",
    "# 10\n",
    "What is a main characteristic of a set in Python?\n",
    "\n",
    "<br>A) It allows duplicate values\n",
    "<br>B) It stores items in a specific order\n",
    "<br>C) It does not allow duplicate elements\n",
    "<br>D) It can be indexed like a list"
   ]
  },
  {
   "cell_type": "markdown",
   "id": "7bec7cd5",
   "metadata": {},
   "source": [
    "# Question 1 Mcqs (Answers)\n",
    "1.  B) 99\n",
    "2.  A) x is a 1D array containing [10, 13, 16]\n",
    "3.  A) It selects 2 blocks, 2 rows, 3 columns → shape (2,2,3)\n",
    "4.  C) .loc includes 'c' while .iloc excludes index 3\n",
    "5.  C) SettingWithCopyWarning may occur and df remains unchanged\n",
    "6.  A) s[::-1] reverses the string by creating a new one.\n",
    "7.  B) Divides a string into parts and returns a list\n",
    "8.  C) An ordered collection of items that cannot be changed\n",
    "9.  A) When a variable name is not defined before use\n",
    "10. C) It does not allow duplicate elements\n"
   ]
  },
  {
   "cell_type": "markdown",
   "id": "4971fe29",
   "metadata": {},
   "source": [
    "# Question 02  Write a python function program that merges arrays(lists) , removes duplicates, and sort the list in ascending order, all implemented under a single function. \n",
    "\n",
    "<br> (6 Marks)"
   ]
  },
  {
   "cell_type": "code",
   "execution_count": 2,
   "id": "b676de40",
   "metadata": {},
   "outputs": [
    {
     "name": "stdout",
     "output_type": "stream",
     "text": [
      "[1, 2, 3, 4, 5]\n"
     ]
    }
   ],
   "source": [
    "#QUESTION 02 SOLUTION HERE \n",
    "def merge_remove_duplicates(*arrays):\n",
    "    merged_list = []\n",
    "    for arr in arrays:\n",
    "        merged_list.extend(arr)\n",
    "    unique_list = list(set(merged_list))\n",
    "    unique_list.sort()\n",
    "    return unique_list\n",
    "list1 = [1,2,3]\n",
    "list2 = [3,4,5]\n",
    "list3 = [2,3,4]\n",
    "result = merge_remove_duplicates(list1, list2, list3)\n",
    "print(result)"
   ]
  },
  {
   "cell_type": "markdown",
   "id": "0f5dce57",
   "metadata": {},
   "source": [
    "# Question 03: Write a Python Program using conditional statements that greets user following:    \n",
    "<br> a) Good Morning \n",
    "<br> b) Good Noon \n",
    "<br> c) Good Afternoon \n",
    "<br> d) Good Evening \n",
    "<br> e) Good Night\n",
    "<br>\n",
    "<br> (5 Marks)"
   ]
  },
  {
   "cell_type": "code",
   "execution_count": 1,
   "id": "256ac03d",
   "metadata": {},
   "outputs": [
    {
     "name": "stdout",
     "output_type": "stream",
     "text": [
      "Good Morning MudasirSohail\n"
     ]
    }
   ],
   "source": [
    "#QUESTIONS 03 SOLUTION HERE\n",
    "import datetime\n",
    "hour = datetime.datetime.now().hour \n",
    "username = \"MudasirSohail\"\n",
    "if hour < 12:\n",
    "    print(f\"Good Morning {username}\")\n",
    "elif hour < 15:\n",
    "    print(f\"Good Noon {username}\")\n",
    "elif hour < 18:\n",
    "    print(f\"Good Afternoon {username}\")\n",
    "elif hour < 21:\n",
    "    print(f\"Good Evening {username}\")\n",
    "elif hour < 24:\n",
    "    print(f\"Good Night {username}\")\n",
    "else:\n",
    "    print(\"Enter correct time\")"
   ]
  },
  {
   "cell_type": "markdown",
   "id": "b0ae9623",
   "metadata": {},
   "source": [
    " # Question 04: Write a program to Calculate the sum of all numbers from 1 to a given number. \n",
    "<br> (5 Marks)"
   ]
  },
  {
   "cell_type": "code",
   "execution_count": 65,
   "id": "cea7788e",
   "metadata": {},
   "outputs": [
    {
     "name": "stdout",
     "output_type": "stream",
     "text": [
      "Sum of numbers from 1 to 10 is : 55\n"
     ]
    }
   ],
   "source": [
    "#QUESTION  04 SOLUTION HERE\n",
    "def sum_of_numbers(n):\n",
    "    total = 0\n",
    "    for i in range(1, n + 1):\n",
    "        total += i\n",
    "    return total\n",
    "number = int(input(\"enter number: \"))\n",
    "result = sum_of_numbers(number)\n",
    "print(f\"Sum of numbers from 1 to {number} is : {result}\")\n"
   ]
  },
  {
   "cell_type": "markdown",
   "id": "f9f793de",
   "metadata": {},
   "source": [
    "# Question 05:  students = { \"student1\": {\"name\": \"Alice\",\"age\": 20,\"grades\": {\"math\": 85, \"science\": 90}}, \"student2\": {\"name\": \"Bob\",\"age\": 22,\"grades\": {\"math\": 78, \"science\": 88 } } }\n",
    "<br> Qs: 1 Delete Charlie’s Record\n",
    "<br> Qs:2 Delete Bob’s Math Grade\n",
    "\n",
    "<br>(4 Marks)"
   ]
  },
  {
   "cell_type": "code",
   "execution_count": 66,
   "id": "102e8d8d",
   "metadata": {},
   "outputs": [
    {
     "name": "stdout",
     "output_type": "stream",
     "text": [
      "{'student1': {'name': 'charlie', 'age': 20, 'grades': {'maths': 85, 'science': 90}}, 'student2': {'name': 'bob', 'age': 22, 'grades': {'maths': 78, 'science': 88}}}\n"
     ]
    },
    {
     "data": {
      "text/plain": [
       "{'student2': {'name': 'bob', 'age': 22, 'grades': {'science': 88}}}"
      ]
     },
     "execution_count": 66,
     "metadata": {},
     "output_type": "execute_result"
    }
   ],
   "source": [
    "#QUESTION 05 SOLUTION HERE \n",
    "students = {\"student1\": {\n",
    "    \"name\": \"charlie\",\n",
    "    \"age\": 20,\n",
    "    \"grades\":{\n",
    "        \"maths\":85,\n",
    "        \"science\":90\n",
    "        }\n",
    "    },\n",
    "            \"student2\": {\n",
    "                \"name\": \"bob\",\n",
    "                \"age\": 22,\n",
    "                \"grades\":{\n",
    "                    \"maths\":78,\n",
    "                    \"science\":88\n",
    "                }\n",
    "            }\n",
    "        }\n",
    "print(students)\n",
    "del students[\"student1\"]\n",
    "students\n",
    "del students[\"student2\"][\"grades\"][\"maths\"]\n",
    "students"
   ]
  },
  {
   "cell_type": "markdown",
   "id": "53c813a7",
   "metadata": {},
   "source": [
    "# Question 06: Create a 2D Numpy Array and Reverse its Rows / Columns / or Both (choose one).  \n",
    "\n",
    "<BR>(5 Marks)"
   ]
  },
  {
   "cell_type": "code",
   "execution_count": 28,
   "id": "0d9279a2",
   "metadata": {},
   "outputs": [
    {
     "data": {
      "text/plain": [
       "array([[4, 3, 2, 1],\n",
       "       [8, 7, 6, 5]])"
      ]
     },
     "execution_count": 28,
     "metadata": {},
     "output_type": "execute_result"
    }
   ],
   "source": [
    "# QUESTION 06 SOLUTION HERE\n",
    "import numpy as np\n",
    "array1 = np.array([[1,2,3,4],[5,6,7,8]])\n",
    "array1[0:,::-1]"
   ]
  },
  {
   "cell_type": "markdown",
   "id": "fd8bc9cb",
   "metadata": {},
   "source": [
    "# Question 07: Create a Small Pandas DataFrame of your choice using Pandas.\n",
    "\n",
    "<br>(5 Marks)"
   ]
  },
  {
   "cell_type": "code",
   "execution_count": null,
   "id": "c1b947a9",
   "metadata": {},
   "outputs": [],
   "source": [
    "# QUESTION 07 SOLUTION HERE\n",
    "import pandas as pd\n",
    "\n",
    "data1 = {\n",
    "    \"Name\" : [\"Ali\", \"Ahmed\", \"Hamza\"],\n",
    "    \"Age\" : [20,25,30],\n",
    "    \"Course\": [\"Data Science\", \"Digital Marketing\", \"Cloud Computing\"]\n",
    "    }\n",
    "df = pd.DataFrame(data1)\n",
    "print(df)"
   ]
  }
 ],
 "metadata": {
  "kernelspec": {
   "display_name": "Python 3",
   "language": "python",
   "name": "python3"
  },
  "language_info": {
   "codemirror_mode": {
    "name": "ipython",
    "version": 3
   },
   "file_extension": ".py",
   "mimetype": "text/x-python",
   "name": "python",
   "nbconvert_exporter": "python",
   "pygments_lexer": "ipython3",
   "version": "3.13.7"
  }
 },
 "nbformat": 4,
 "nbformat_minor": 5
}
