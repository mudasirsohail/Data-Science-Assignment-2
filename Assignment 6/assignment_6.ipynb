{
 "cells": [
  {
   "cell_type": "markdown",
   "id": "72ca37fa",
   "metadata": {},
   "source": [
    "# 1. Find the maximum of three numbers"
   ]
  },
  {
   "cell_type": "code",
   "execution_count": null,
   "id": "799ed78c",
   "metadata": {
    "vscode": {
     "languageId": "plaintext"
    }
   },
   "outputs": [],
   "source": [
    "def max_of_three(a, b, c):\n",
    "    return max(a, b, c)\n",
    "\n",
    "print(\"Max of three:\", max_of_three(10, 25, 15))"
   ]
  },
  {
   "cell_type": "markdown",
   "id": "714c1252",
   "metadata": {},
   "source": [
    "# 2. Sum all numbers in a list"
   ]
  },
  {
   "cell_type": "code",
   "execution_count": null,
   "id": "7db5322b",
   "metadata": {
    "vscode": {
     "languageId": "plaintext"
    }
   },
   "outputs": [],
   "source": [
    "def sum_list(numbers):\n",
    "    return sum(numbers)\n",
    "\n",
    "print(\"Sum of list:\", sum_list([1, 2, 3, 4, 5]))"
   ]
  },
  {
   "cell_type": "markdown",
   "id": "c8aaeda3",
   "metadata": {},
   "source": [
    "# 3. Factorial of a number (non-negative integer)"
   ]
  },
  {
   "cell_type": "code",
   "execution_count": null,
   "id": "97544a37",
   "metadata": {
    "vscode": {
     "languageId": "plaintext"
    }
   },
   "outputs": [],
   "source": [
    "def factorial(num):\n",
    "    if num == 0 or num == 1:\n",
    "        return 1\n",
    "    else:\n",
    "        result = 1\n",
    "        for i in range(2, num + 1):\n",
    "            result *= i\n",
    "        return result\n",
    "\n",
    "print(\"Factorial:\", factorial(5))"
   ]
  },
  {
   "cell_type": "markdown",
   "id": "d686a12c",
   "metadata": {},
   "source": [
    "# 4. Check whether a number falls within a given range"
   ]
  },
  {
   "cell_type": "code",
   "execution_count": null,
   "id": "4f36eb58",
   "metadata": {
    "vscode": {
     "languageId": "plaintext"
    }
   },
   "outputs": [],
   "source": [
    "def check_range(num, start, end):\n",
    "    return start <= num <= end\n",
    "\n",
    "print(\"Is 10 in range 5–15?\", check_range(10, 5, 15))"
   ]
  },
  {
   "cell_type": "markdown",
   "id": "946f3ab5",
   "metadata": {},
   "source": [
    "# 5. Count upper- and lower-case letters in a string"
   ]
  },
  {
   "cell_type": "code",
   "execution_count": null,
   "id": "ad6d9621",
   "metadata": {
    "vscode": {
     "languageId": "plaintext"
    }
   },
   "outputs": [],
   "source": [
    "def count_case(s):\n",
    "    upper = 0\n",
    "    lower = 0\n",
    "    for char in s:\n",
    "        if char.isupper():\n",
    "            upper += 1\n",
    "        elif char.islower():\n",
    "            lower += 1\n",
    "    return upper, lower\n",
    "\n",
    "u, l = count_case(\"Hello World\")\n",
    "print(f\"Uppercase: {u}, Lowercase: {l}\")"
   ]
  },
  {
   "cell_type": "markdown",
   "id": "946ec677",
   "metadata": {},
   "source": [
    "# 6. Return a new list with distinct elements"
   ]
  },
  {
   "cell_type": "code",
   "execution_count": null,
   "id": "bfe8353a",
   "metadata": {
    "vscode": {
     "languageId": "plaintext"
    }
   },
   "outputs": [],
   "source": [
    "def unique_list(lst):\n",
    "    return list(set(lst))\n",
    "\n",
    "print(\"Unique List:\", unique_list([1, 2, 2, 3, 4, 4, 5]))"
   ]
  },
  {
   "cell_type": "markdown",
   "id": "6b5c5991",
   "metadata": {},
   "source": [
    "# 7. Check whether a number is prime"
   ]
  },
  {
   "cell_type": "code",
   "execution_count": null,
   "id": "a6cc7534",
   "metadata": {
    "vscode": {
     "languageId": "plaintext"
    }
   },
   "outputs": [],
   "source": [
    "def is_prime(num):\n",
    "    if num <= 1:\n",
    "        return False\n",
    "    for i in range(2, int(num ** 0.5) + 1):\n",
    "        if num % i == 0:\n",
    "            return False\n",
    "    return True\n",
    "\n",
    "print(\"Is 7 prime?\", is_prime(7))"
   ]
  },
  {
   "cell_type": "markdown",
   "id": "2bd0b3ac",
   "metadata": {},
   "source": [
    "# 8. Print even numbers from a given list"
   ]
  },
  {
   "cell_type": "code",
   "execution_count": null,
   "id": "0598214f",
   "metadata": {
    "vscode": {
     "languageId": "plaintext"
    }
   },
   "outputs": [],
   "source": [
    "def even_numbers(lst):\n",
    "    return [n for n in lst if n % 2 == 0]\n",
    "\n",
    "print(\"Even numbers:\", even_numbers([1, 2, 3, 4, 5, 6]))"
   ]
  },
  {
   "cell_type": "markdown",
   "id": "b01e392f",
   "metadata": {},
   "source": [
    "# 9. Check whether a string is a palindrome"
   ]
  },
  {
   "cell_type": "code",
   "execution_count": null,
   "id": "dfa04137",
   "metadata": {
    "vscode": {
     "languageId": "plaintext"
    }
   },
   "outputs": [],
   "source": [
    "def is_palindrome(s):\n",
    "    s = s.lower()\n",
    "    return s == s[::-1]\n",
    "\n",
    "print(\"Is 'Madam' palindrome?\", is_palindrome(\"Madam\"))"
   ]
  },
  {
   "cell_type": "markdown",
   "id": "092fe165",
   "metadata": {},
   "source": [
    "# 10. Create and print squares of numbers between 1 and 30"
   ]
  },
  {
   "cell_type": "code",
   "execution_count": null,
   "id": "5fa81a10",
   "metadata": {
    "vscode": {
     "languageId": "plaintext"
    }
   },
   "outputs": [],
   "source": [
    "def squares_1_to_30():\n",
    "    squares = [i ** 2 for i in range(1, 31)]\n",
    "    return squares\n",
    "\n",
    "print(\"Squares 1–30:\", squares_1_to_30())"
   ]
  },
  {
   "cell_type": "markdown",
   "id": "32d1b999",
   "metadata": {},
   "source": [
    "# 11. Simple Calculator"
   ]
  },
  {
   "cell_type": "code",
   "execution_count": null,
   "id": "828891ee",
   "metadata": {
    "vscode": {
     "languageId": "plaintext"
    }
   },
   "outputs": [],
   "source": [
    "def calculator(a, op, b,):\n",
    "    if op == '+':\n",
    "        return a + b\n",
    "    elif op == '-':\n",
    "        return a - b\n",
    "    elif op == '*':\n",
    "        return a * b\n",
    "    elif op == '/':\n",
    "        return a / b if b != 0 else \"Division by zero!\"\n",
    "    else:\n",
    "        return \"Invalid operator!\"\n",
    "\n",
    "print(\"Calculator result:\", calculator(10, '+', 5, ))"
   ]
  },
  {
   "cell_type": "markdown",
   "id": "51343817",
   "metadata": {},
   "source": [
    "# 12. Fibonacci Sequence Using Recursion"
   ]
  },
  {
   "cell_type": "code",
   "execution_count": null,
   "id": "0eb86083",
   "metadata": {
    "vscode": {
     "languageId": "plaintext"
    }
   },
   "outputs": [],
   "source": [
    "def fibonacci(n):\n",
    "    if n <= 1:\n",
    "        return n\n",
    "    else:\n",
    "        return fibonacci(n-1) + fibonacci(n-2)\n",
    "\n",
    "print(\"Fibonacci Sequence:\", [fibonacci(i) for i in range(10)])"
   ]
  },
  {
   "cell_type": "markdown",
   "id": "cd51e187",
   "metadata": {},
   "source": [
    "# 13. Factorial Using Recursion"
   ]
  },
  {
   "cell_type": "code",
   "execution_count": null,
   "id": "477a98be",
   "metadata": {
    "vscode": {
     "languageId": "plaintext"
    }
   },
   "outputs": [],
   "source": [
    "def factorial_recursive(n):\n",
    "    if n == 0:\n",
    "        return 1\n",
    "    else:\n",
    "        return n * factorial_recursive(n - 1)\n",
    "\n",
    "print(\"Recursive Factorial:\", factorial_recursive(5))"
   ]
  },
  {
   "cell_type": "markdown",
   "id": "4741bcb4",
   "metadata": {},
   "source": [
    "# 14. Sum all numbers in a list using recursion"
   ]
  },
  {
   "cell_type": "code",
   "execution_count": null,
   "id": "3c46c562",
   "metadata": {
    "vscode": {
     "languageId": "plaintext"
    }
   },
   "outputs": [],
   "source": [
    "def sum_list_recursive(lst):\n",
    "    if not lst:\n",
    "        return 0\n",
    "    else:\n",
    "        return lst[0] + sum_list_recursive(lst[1:])\n",
    "\n",
    "print(\"Sum using recursion:\", sum_list_recursive([1, 2, 3, 4, 5]))"
   ]
  }
 ],
 "metadata": {
  "language_info": {
   "name": "python"
  }
 },
 "nbformat": 4,
 "nbformat_minor": 5
}
